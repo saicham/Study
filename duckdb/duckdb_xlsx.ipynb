{
 "cells": [
  {
   "cell_type": "code",
   "execution_count": 15,
   "id": "6e0d514d-8356-4b8a-8c68-1fd5279f1612",
   "metadata": {},
   "outputs": [],
   "source": [
    "import duckdb as dk\n",
    "import pandas as pd\n",
    "import time\n",
    "import datetime\n",
    "import os"
   ]
  },
  {
   "cell_type": "code",
   "execution_count": 112,
   "id": "d8aa12c8-fa67-4afa-ac6f-1fe1f68f2aa0",
   "metadata": {},
   "outputs": [
    {
     "data": {
      "text/plain": [
       "<duckdb.DuckDBPyConnection at 0x283a64d0270>"
      ]
     },
     "execution_count": 112,
     "metadata": {},
     "output_type": "execute_result"
    }
   ],
   "source": [
    "conn = dk.connect(':memory:')\n",
    "# conn = dk.connect()\n",
    "conn.execute('INSTALL spatial') # 확장프로그램(spatial) 최초 한번만 실행하면 됨\n",
    "conn.execute('LOAD spatial') # 확장프로그램(spatial) 최초 한번만 실행하면 됨"
   ]
  },
  {
   "cell_type": "markdown",
   "id": "1b6a5ace-19ee-4170-8084-a0ef695f34f7",
   "metadata": {},
   "source": [
    "---\n",
    "### EXCEL  -st_read()"
   ]
  },
  {
   "cell_type": "code",
   "execution_count": 121,
   "id": "67d2449a-cf89-4c56-9f17-52637b6b066b",
   "metadata": {},
   "outputs": [
    {
     "name": "stdout",
     "output_type": "stream",
     "text": [
      "0:00:28.520711\n"
     ]
    }
   ],
   "source": [
    "start = time.time()\n",
    "conn.sql(\"CREATE TABLE new_table AS SELECT * FROM st_read('./duckdb/dugo.xlsx');\")\n",
    "end = time.time()\n",
    "sec = (end - start)\n",
    "result = datetime.timedelta(seconds=sec)\n",
    "print(result)"
   ]
  },
  {
   "cell_type": "code",
   "execution_count": 122,
   "id": "50efddea-74c9-4a5f-8f83-dc19532c25a6",
   "metadata": {},
   "outputs": [
    {
     "data": {
      "text/plain": [
       "┌───────────────┬──────────────┬────────────┬────────────┬───┬────────────────────┬──────────┬───────────────┐\n",
       "│ table_catalog │ table_schema │ table_name │ table_type │ … │ is_insertable_into │ is_typed │ commit_action │\n",
       "│    varchar    │   varchar    │  varchar   │  varchar   │   │      varchar       │ varchar  │    varchar    │\n",
       "├───────────────┼──────────────┼────────────┼────────────┼───┼────────────────────┼──────────┼───────────────┤\n",
       "│ memory        │ main         │ insurance2 │ BASE TABLE │ … │ YES                │ NO       │ NULL          │\n",
       "│ memory        │ main         │ new_table  │ BASE TABLE │ … │ YES                │ NO       │ NULL          │\n",
       "├───────────────┴──────────────┴────────────┴────────────┴───┴────────────────────┴──────────┴───────────────┤\n",
       "│ 2 rows                                                                                12 columns (7 shown) │\n",
       "└────────────────────────────────────────────────────────────────────────────────────────────────────────────┘"
      ]
     },
     "execution_count": 122,
     "metadata": {},
     "output_type": "execute_result"
    }
   ],
   "source": [
    "conn.sql('select * from information_schema.tables;')"
   ]
  },
  {
   "cell_type": "code",
   "execution_count": 124,
   "id": "935cbe93-2365-41c6-b2b1-04e3395f0f3f",
   "metadata": {},
   "outputs": [
    {
     "data": {
      "text/plain": [
       "┌──────────────────────┬────────┐\n",
       "│ 검사결과등록세관부호 │  cns   │\n",
       "│       varchar        │ int64  │\n",
       "├──────────────────────┼────────┤\n",
       "│ 040                  │ 775718 │\n",
       "│ 140                  │  83316 │\n",
       "│ 041                  │  47430 │\n",
       "│ 020                  │  31828 │\n",
       "│ 120                  │  27901 │\n",
       "│ 016                  │  24053 │\n",
       "│ 030                  │  19800 │\n",
       "│ 090                  │  11918 │\n",
       "│ 080                  │  11173 │\n",
       "│ 071                  │   7683 │\n",
       "│  ·                   │      · │\n",
       "│  ·                   │      · │\n",
       "│  ·                   │      · │\n",
       "│ 053                  │      9 │\n",
       "│ 154                  │      6 │\n",
       "│ 050                  │      5 │\n",
       "│ 122                  │      5 │\n",
       "│ 054                  │      5 │\n",
       "│ 103                  │      4 │\n",
       "│ 052                  │      4 │\n",
       "│ 012                  │      3 │\n",
       "│ 051                  │      2 │\n",
       "│ 017                  │      1 │\n",
       "├──────────────────────┴────────┤\n",
       "│ 27 rows (20 shown)  2 columns │\n",
       "└───────────────────────────────┘"
      ]
     },
     "execution_count": 124,
     "metadata": {},
     "output_type": "execute_result"
    }
   ],
   "source": [
    "conn.sql(\"select 검사결과등록세관부호,count(*) cns from new_table group by 검사결과등록세관부호 order by 2 desc;\")"
   ]
  },
  {
   "cell_type": "markdown",
   "id": "47e3d951-f8a3-45f1-ad6f-dd969c98fe39",
   "metadata": {},
   "source": [
    "---\n",
    "### duckdb metadata 및 internal function"
   ]
  },
  {
   "cell_type": "code",
   "execution_count": 18,
   "id": "af9cde25-afc7-420b-9474-765f1696b57d",
   "metadata": {},
   "outputs": [
    {
     "data": {
      "text/plain": [
       "['.ipynb_checkpoints', 'duckdb']"
      ]
     },
     "execution_count": 18,
     "metadata": {},
     "output_type": "execute_result"
    }
   ],
   "source": [
    "os.listdir()"
   ]
  },
  {
   "cell_type": "code",
   "execution_count": 21,
   "id": "7dcdca22-fe34-4cdc-b0f7-1f784d2e4939",
   "metadata": {},
   "outputs": [
    {
     "data": {
      "text/plain": [
       "┌─────────────────┬──────────────────────┬───┬───────────────────┬───────────────────┬──────────────┐\n",
       "│ 휴대품관리번호  │ 검사결과등록세관부호 │ … │ 유치면세물품구분2 │ 유치면세물품구분3 │ 특이사항내역 │\n",
       "│     varchar     │       varchar        │   │      varchar      │      varchar      │   varchar    │\n",
       "├─────────────────┼──────────────────────┼───┼───────────────────┼───────────────────┼──────────────┤\n",
       "│ 040A42018022202 │ 040                  │ … │ NULL              │ NULL              │ NULL         │\n",
       "│ 120212018021425 │ 120                  │ … │ NULL              │ NULL              │ NULL         │\n",
       "│ 040A62018021850 │ 040                  │ … │ NULL              │ NULL              │ NULL         │\n",
       "│ 120212018021426 │ 120                  │ … │ NULL              │ NULL              │ NULL         │\n",
       "│ 040A62018021851 │ 040                  │ … │ NULL              │ NULL              │ NULL         │\n",
       "│ 040242018023767 │ 040                  │ … │ NULL              │ NULL              │ NULL         │\n",
       "│ 140212018026820 │ 140                  │ … │ NULL              │ NULL              │ NULL         │\n",
       "│ 040322018024399 │ 040                  │ … │ NULL              │ NULL              │ NULL         │\n",
       "│ 140212018026818 │ 140                  │ … │ NULL              │ Z99               │ NULL         │\n",
       "│ 140212018026821 │ 140                  │ … │ NULL              │ NULL              │ NULL         │\n",
       "│        ·        │  ·                   │ · │  ·                │  ·                │  ·           │\n",
       "│        ·        │  ·                   │ · │  ·                │  ·                │  ·           │\n",
       "│        ·        │  ·                   │ · │  ·                │  ·                │  ·           │\n",
       "│ 140212019082995 │ 140                  │ … │ NULL              │ NULL              │ NULL         │\n",
       "│ 040242019082973 │ 040                  │ … │ NULL              │ NULL              │ NULL         │\n",
       "│ 030232019080510 │ 030                  │ … │ NULL              │ NULL              │ NULL         │\n",
       "│ 020242019080611 │ 020                  │ … │ NULL              │ NULL              │ NULL         │\n",
       "│ 040242019082974 │ 040                  │ … │ NULL              │ NULL              │ NULL         │\n",
       "│ 030232019080511 │ 030                  │ … │ NULL              │ Z99               │ NULL         │\n",
       "│ 040242019082975 │ 040                  │ … │ NULL              │ NULL              │ NULL         │\n",
       "│ 040242019082976 │ 040                  │ … │ NULL              │ NULL              │ NULL         │\n",
       "│ 040322019081603 │ 040                  │ … │ NULL              │ NULL              │ NULL         │\n",
       "│ 020242019080612 │ 020                  │ … │ NULL              │ NULL              │ NULL         │\n",
       "├─────────────────┴──────────────────────┴───┴───────────────────┴───────────────────┴──────────────┤\n",
       "│ ? rows (>9999 rows, 20 shown)                                                21 columns (5 shown) │\n",
       "└───────────────────────────────────────────────────────────────────────────────────────────────────┘"
      ]
     },
     "execution_count": 21,
     "metadata": {},
     "output_type": "execute_result"
    }
   ],
   "source": [
    "conn.table(table_name='new_table')\n",
    "# conn.sql('select * from new_table;').show()"
   ]
  },
  {
   "cell_type": "code",
   "execution_count": 100,
   "id": "8738dc9e-866d-4ce0-a164-06baa601f055",
   "metadata": {},
   "outputs": [
    {
     "data": {
      "text/plain": [
       "┌───────────────┬──────────────┬────────────┬────────────┬───┬────────────────────┬──────────┬───────────────┐\n",
       "│ table_catalog │ table_schema │ table_name │ table_type │ … │ is_insertable_into │ is_typed │ commit_action │\n",
       "│    varchar    │   varchar    │  varchar   │  varchar   │   │      varchar       │ varchar  │    varchar    │\n",
       "├───────────────┼──────────────┼────────────┼────────────┼───┼────────────────────┼──────────┼───────────────┤\n",
       "│ memory        │ main         │ new_table  │ BASE TABLE │ … │ YES                │ NO       │ NULL          │\n",
       "│ memory        │ main         │ insurance2 │ BASE TABLE │ … │ YES                │ NO       │ NULL          │\n",
       "│ temp          │ main         │ insurance  │ VIEW       │ … │ NO                 │ NO       │ NULL          │\n",
       "├───────────────┴──────────────┴────────────┴────────────┴───┴────────────────────┴──────────┴───────────────┤\n",
       "│ 3 rows                                                                                12 columns (7 shown) │\n",
       "└────────────────────────────────────────────────────────────────────────────────────────────────────────────┘"
      ]
     },
     "execution_count": 100,
     "metadata": {},
     "output_type": "execute_result"
    }
   ],
   "source": [
    "conn.sql('select * from information_schema.tables;')"
   ]
  },
  {
   "cell_type": "code",
   "execution_count": 37,
   "id": "2fc5edb5-466f-4040-ada7-a94806d7ebd5",
   "metadata": {},
   "outputs": [
    {
     "data": {
      "text/plain": [
       "┌───────────────┬──────────────┬────────────┬────────────┬───┬────────────────────┬──────────┬───────────────┐\n",
       "│ table_catalog │ table_schema │ table_name │ table_type │ … │ is_insertable_into │ is_typed │ commit_action │\n",
       "│    varchar    │   varchar    │  varchar   │  varchar   │   │      varchar       │ varchar  │    varchar    │\n",
       "├───────────────┼──────────────┼────────────┼────────────┼───┼────────────────────┼──────────┼───────────────┤\n",
       "│ memory        │ main         │ new_table  │ BASE TABLE │ … │ YES                │ NO       │ NULL          │\n",
       "├───────────────┴──────────────┴────────────┴────────────┴───┴────────────────────┴──────────┴───────────────┤\n",
       "│ 1 rows                                                                                12 columns (7 shown) │\n",
       "└────────────────────────────────────────────────────────────────────────────────────────────────────────────┘"
      ]
     },
     "execution_count": 37,
     "metadata": {},
     "output_type": "execute_result"
    }
   ],
   "source": [
    "conn.sql(\"select * from information_schema.tables where table_name= 'new_table' ;\")"
   ]
  },
  {
   "cell_type": "code",
   "execution_count": 44,
   "id": "73a9257e-3253-429d-8abb-626527eda296",
   "metadata": {},
   "outputs": [
    {
     "data": {
      "text/plain": [
       "┌──────────────────────┬───────────┬────────────────────────┐\n",
       "│     column_name      │ data_type │ character_octet_length │\n",
       "│       varchar        │  varchar  │         int32          │\n",
       "├──────────────────────┼───────────┼────────────────────────┤\n",
       "│ 휴대품관리번호       │ VARCHAR   │                   NULL │\n",
       "│ 검사결과등록세관부호 │ VARCHAR   │                   NULL │\n",
       "│ 검사결과등록과코드   │ VARCHAR   │                   NULL │\n",
       "│ 휴대품검사일자       │ VARCHAR   │                   NULL │\n",
       "│ 휴대품검사사유코드1  │ VARCHAR   │                   NULL │\n",
       "│ 휴대품검사사유코드2  │ VARCHAR   │                   NULL │\n",
       "│ 휴대품검사사유코드3  │ VARCHAR   │                   NULL │\n",
       "│ 휴대품검사사유코드4  │ VARCHAR   │                   NULL │\n",
       "│ 휴대품검사결과코드1  │ VARCHAR   │                   NULL │\n",
       "│ 휴대품검사결과코드2  │ VARCHAR   │                   NULL │\n",
       "│ 검사상세결과코드1    │ VARCHAR   │                   NULL │\n",
       "│ 검사상세결과코드2    │ VARCHAR   │                   NULL │\n",
       "│ 면세물품유형코드     │ VARCHAR   │                   NULL │\n",
       "│ 면세물품대분류코드1  │ VARCHAR   │                   NULL │\n",
       "│ 면세물품대분류코드2  │ VARCHAR   │                   NULL │\n",
       "│ 면세물품대분류코드3  │ VARCHAR   │                   NULL │\n",
       "│ 면세물품대분류코드4  │ VARCHAR   │                   NULL │\n",
       "│ 유치면세물품구분1    │ VARCHAR   │                   NULL │\n",
       "│ 유치면세물품구분2    │ VARCHAR   │                   NULL │\n",
       "│ 유치면세물품구분3    │ VARCHAR   │                   NULL │\n",
       "│ 특이사항내역         │ VARCHAR   │                   NULL │\n",
       "├──────────────────────┴───────────┴────────────────────────┤\n",
       "│ 21 rows                                         3 columns │\n",
       "└───────────────────────────────────────────────────────────┘"
      ]
     },
     "execution_count": 44,
     "metadata": {},
     "output_type": "execute_result"
    }
   ],
   "source": [
    "conn.sql(\"select column_name,data_type,character_octet_length from information_schema.columns where table_name= 'new_table' ;\")"
   ]
  },
  {
   "cell_type": "code",
   "execution_count": 45,
   "id": "31c04d4b-581a-48f6-a37b-c59f6976c9c3",
   "metadata": {},
   "outputs": [
    {
     "data": {
      "text/plain": [
       "┌──────────────┬────────────────────┬──────────────┬───┬──────────────────────┬──────────────────────┬──────────┐\n",
       "│ catalog_name │    schema_name     │ schema_owner │ … │ default_character_…  │ default_character_…  │ sql_path │\n",
       "│   varchar    │      varchar       │   varchar    │   │        int32         │        int32         │ varchar  │\n",
       "├──────────────┼────────────────────┼──────────────┼───┼──────────────────────┼──────────────────────┼──────────┤\n",
       "│ memory       │ information_schema │ duckdb       │ … │                 NULL │                 NULL │ NULL     │\n",
       "│ memory       │ main               │ duckdb       │ … │                 NULL │                 NULL │ NULL     │\n",
       "│ memory       │ pg_catalog         │ duckdb       │ … │                 NULL │                 NULL │ NULL     │\n",
       "│ system       │ information_schema │ duckdb       │ … │                 NULL │                 NULL │ NULL     │\n",
       "│ system       │ main               │ duckdb       │ … │                 NULL │                 NULL │ NULL     │\n",
       "│ system       │ pg_catalog         │ duckdb       │ … │                 NULL │                 NULL │ NULL     │\n",
       "│ temp         │ information_schema │ duckdb       │ … │                 NULL │                 NULL │ NULL     │\n",
       "│ temp         │ main               │ duckdb       │ … │                 NULL │                 NULL │ NULL     │\n",
       "│ temp         │ pg_catalog         │ duckdb       │ … │                 NULL │                 NULL │ NULL     │\n",
       "├──────────────┴────────────────────┴──────────────┴───┴──────────────────────┴──────────────────────┴──────────┤\n",
       "│ 9 rows                                                                                    7 columns (6 shown) │\n",
       "└───────────────────────────────────────────────────────────────────────────────────────────────────────────────┘"
      ]
     },
     "execution_count": 45,
     "metadata": {},
     "output_type": "execute_result"
    }
   ],
   "source": [
    "conn.sql('select * from information_schema.schemata;')"
   ]
  },
  {
   "cell_type": "code",
   "execution_count": 49,
   "id": "635fa2c1-e57d-43fb-822f-d37d1cc7d762",
   "metadata": {},
   "outputs": [
    {
     "data": {
      "text/plain": [
       "┌──────────────────────────────────────────────────────────────────────────────────────────────────────────────────────┐\n",
       "│                                                         sql                                                          │\n",
       "│                                                       varchar                                                        │\n",
       "├──────────────────────────────────────────────────────────────────────────────────────────────────────────────────────┤\n",
       "│ SELECT database_name table_catalog, schema_name table_schema, table_name, column_name, column_index ordinal_positi…  │\n",
       "│ SELECT database_name catalog_name, schema_name, 'duckdb' schema_owner, NULL default_character_set_catalog, NULL de…  │\n",
       "│ SELECT database_name table_catalog, schema_name table_schema, table_name, CASE WHEN temporary THEN 'LOCAL TEMPORAR…  │\n",
       "│ SELECT database_oid AS seq, database_name AS name, path AS file FROM duckdb_databases() WHERE NOT internal ORDER B…  │\n",
       "│ select 'table' \"type\", table_name \"name\", table_name \"tbl_name\", 0 rootpage, sql from duckdb_tables union all sele…  │\n",
       "│ SELECT * FROM sqlite_master\\n;                                                                                       │\n",
       "│ SELECT * FROM sqlite_master\\n;                                                                                       │\n",
       "│ SELECT * FROM sqlite_master\\n;                                                                                       │\n",
       "│ SELECT * FROM duckdb_constraints()\\n;                                                                                │\n",
       "│ SELECT * FROM duckdb_columns() WHERE NOT internal\\n;                                                                 │\n",
       "│                          ·                                                                                           │\n",
       "│                          ·                                                                                           │\n",
       "│                          ·                                                                                           │\n",
       "│ SELECT schema_name schemaname, table_name tablename, index_name indexname, NULL \"tablespace\", sql indexdef FROM du…  │\n",
       "│ SELECT oid, schema_name nspname, 0 nspowner, NULL nspacl FROM duckdb_schemas()\\n;                                    │\n",
       "│ SELECT f.function_oid oid, function_name proname, s.oid pronamespace, varargs provariadic, function_type = 'aggreg…  │\n",
       "│ SELECT sequence_oid seqrelid, 0 seqtypid, start_value seqstart, increment_by seqincrement, max_value seqmax, min_v…  │\n",
       "│ SELECT schema_name schemaname, sequence_name sequencename, 'duckdb' sequenceowner, 0 data_type, start_value, min_v…  │\n",
       "│ SELECT name, value setting, description short_desc, CASE WHEN input_type = 'VARCHAR' THEN 'string' WHEN input_type…  │\n",
       "│ SELECT schema_name schemaname, table_name tablename, 'duckdb' tableowner, NULL \"tablespace\", index_count > 0 hasin…  │\n",
       "│ SELECT 0 oid, 'pg_default' spcname, 0 spcowner, NULL spcacl, NULL spcoptions\\n;                                      │\n",
       "│ SELECT type_oid oid, format_pg_type(type_name) typname, schema_oid typnamespace, 0 typowner, type_size typlen, fal…  │\n",
       "│ SELECT schema_name schemaname, view_name viewname, 'duckdb' viewowner, sql definition FROM duckdb_views()\\n;         │\n",
       "├──────────────────────────────────────────────────────────────────────────────────────────────────────────────────────┤\n",
       "│                                                 108 rows (20 shown)                                                  │\n",
       "└──────────────────────────────────────────────────────────────────────────────────────────────────────────────────────┘"
      ]
     },
     "execution_count": 49,
     "metadata": {},
     "output_type": "execute_result"
    }
   ],
   "source": [
    "conn.sql(\"select sql from duckdb_views();\")"
   ]
  },
  {
   "cell_type": "code",
   "execution_count": 50,
   "id": "87944097-7673-474d-a2ae-055ee4fa7070",
   "metadata": {},
   "outputs": [
    {
     "data": {
      "text/plain": [
       "┌───────────────┬──────────────┬────────────────────┬───┬───────────────────┬──────────────────────┬───────────────┐\n",
       "│ database_name │ database_oid │    schema_name     │ … │ numeric_precision │ numeric_precision_…  │ numeric_scale │\n",
       "│    varchar    │    int64     │      varchar       │   │       int32       │        int32         │     int32     │\n",
       "├───────────────┼──────────────┼────────────────────┼───┼───────────────────┼──────────────────────┼───────────────┤\n",
       "│ memory        │          916 │ information_schema │ … │              NULL │                 NULL │          NULL │\n",
       "│ memory        │          916 │ information_schema │ … │              NULL │                 NULL │          NULL │\n",
       "│ memory        │          916 │ information_schema │ … │              NULL │                 NULL │          NULL │\n",
       "│ memory        │          916 │ information_schema │ … │              NULL │                 NULL │          NULL │\n",
       "│ memory        │          916 │ information_schema │ … │                32 │                    2 │             0 │\n",
       "│ memory        │          916 │ information_schema │ … │              NULL │                 NULL │          NULL │\n",
       "│ memory        │          916 │ information_schema │ … │              NULL │                 NULL │          NULL │\n",
       "│ memory        │          916 │ information_schema │ … │              NULL │                 NULL │          NULL │\n",
       "│ memory        │          916 │ information_schema │ … │                32 │                    2 │             0 │\n",
       "│ memory        │          916 │ information_schema │ … │              NULL │                 NULL │          NULL │\n",
       "│  ·            │           ·  │     ·              │ · │                ·  │                   ·  │            ·  │\n",
       "│  ·            │           ·  │     ·              │ · │                ·  │                   ·  │            ·  │\n",
       "│  ·            │           ·  │     ·              │ · │                ·  │                   ·  │            ·  │\n",
       "│ temp          │         1354 │ pg_catalog         │ … │              NULL │                 NULL │          NULL │\n",
       "│ temp          │         1354 │ pg_catalog         │ … │              NULL │                 NULL │          NULL │\n",
       "│ temp          │         1354 │ pg_catalog         │ … │              NULL │                 NULL │          NULL │\n",
       "│ temp          │         1354 │ pg_catalog         │ … │              NULL │                 NULL │          NULL │\n",
       "│ temp          │         1354 │ pg_catalog         │ … │              NULL │                 NULL │          NULL │\n",
       "│ temp          │         1354 │ pg_catalog         │ … │              NULL │                 NULL │          NULL │\n",
       "│ temp          │         1354 │ pg_catalog         │ … │              NULL │                 NULL │          NULL │\n",
       "│ temp          │         1354 │ pg_catalog         │ … │              NULL │                 NULL │          NULL │\n",
       "│ temp          │         1354 │ pg_catalog         │ … │              NULL │                 NULL │          NULL │\n",
       "│ temp          │         1354 │ pg_catalog         │ … │              NULL │                 NULL │          NULL │\n",
       "├───────────────┴──────────────┴────────────────────┴───┴───────────────────┴──────────────────────┴───────────────┤\n",
       "│ 1200 rows (20 shown)                                                                        17 columns (6 shown) │\n",
       "└──────────────────────────────────────────────────────────────────────────────────────────────────────────────────┘"
      ]
     },
     "execution_count": 50,
     "metadata": {},
     "output_type": "execute_result"
    }
   ],
   "source": [
    "conn.sql(\"select * from duckdb_columns();\")"
   ]
  },
  {
   "cell_type": "code",
   "execution_count": 52,
   "id": "c690258e-2183-4ca4-ac3c-2c59a3e6d9cd",
   "metadata": {},
   "outputs": [
    {
     "data": {
      "text/plain": [
       "┌───────────────┬──────────────┬─────────┬──────────┬─────────┐\n",
       "│ database_name │ database_oid │  path   │ internal │  type   │\n",
       "│    varchar    │    int64     │ varchar │ boolean  │ varchar │\n",
       "├───────────────┼──────────────┼─────────┼──────────┼─────────┤\n",
       "│ memory        │          916 │ NULL    │ false    │ duckdb  │\n",
       "│ system        │            0 │ NULL    │ true     │ duckdb  │\n",
       "│ temp          │         1354 │ NULL    │ true     │ duckdb  │\n",
       "└───────────────┴──────────────┴─────────┴──────────┴─────────┘"
      ]
     },
     "execution_count": 52,
     "metadata": {},
     "output_type": "execute_result"
    }
   ],
   "source": [
    "conn.sql(\"select * from duckdb_databases();\")"
   ]
  },
  {
   "cell_type": "code",
   "execution_count": 74,
   "id": "f117234f-a8d3-44a9-b64d-273586c89548",
   "metadata": {},
   "outputs": [
    {
     "data": {
      "text/plain": [
       "┌──────────────────────────────────────────────────────────────────────────────────────────────────────────────────────┐\n",
       "│                                                         sql                                                          │\n",
       "│                                                       varchar                                                        │\n",
       "├──────────────────────────────────────────────────────────────────────────────────────────────────────────────────────┤\n",
       "│ CREATE TABLE new_table(\"휴대품관리번호\" VARCHAR, \"검사결과등록세관부호\" VARCHAR, \"검사결과등록과코드\" VARCHAR, \"휴…  │\n",
       "└──────────────────────────────────────────────────────────────────────────────────────────────────────────────────────┘"
      ]
     },
     "execution_count": 74,
     "metadata": {},
     "output_type": "execute_result"
    }
   ],
   "source": [
    "conn.sql(\"select sql from duckdb_tables() where table_name = 'new_table';\")"
   ]
  },
  {
   "cell_type": "code",
   "execution_count": 54,
   "id": "e90ee5d7-ba53-4570-83ff-8b6f75ba22c8",
   "metadata": {},
   "outputs": [
    {
     "data": {
      "text/plain": [
       "┌────────────────────────────────────────────────────────────────────────────────┐\n",
       "│                                  install_path                                  │\n",
       "│                                    varchar                                     │\n",
       "├────────────────────────────────────────────────────────────────────────────────┤\n",
       "│ C:\\Users\\user\\.duckdb\\extensions\\v0.8.1\\windows_amd64\\spatial.duckdb_extension │\n",
       "└────────────────────────────────────────────────────────────────────────────────┘"
      ]
     },
     "execution_count": 54,
     "metadata": {},
     "output_type": "execute_result"
    }
   ],
   "source": [
    "conn.sql(\"select install_path from duckdb_extensions() where extension_name ='spatial';\")"
   ]
  },
  {
   "cell_type": "code",
   "execution_count": 55,
   "id": "2685aef8-6439-49f6-8470-111a0252df85",
   "metadata": {},
   "outputs": [
    {
     "data": {
      "text/plain": [
       "┌──────────────────┬─────────┬───────────┬──────────────────────┬──────────────────────────────────┬───────────────────┐\n",
       "│  extension_name  │ loaded  │ installed │     install_path     │           description            │      aliases      │\n",
       "│     varchar      │ boolean │  boolean  │       varchar        │             varchar              │     varchar[]     │\n",
       "├──────────────────┼─────────┼───────────┼──────────────────────┼──────────────────────────────────┼───────────────────┤\n",
       "│ autocomplete     │ false   │ false     │                      │ Add supports for autocomplete …  │ []                │\n",
       "│ fts              │ true    │ true      │ (BUILT-IN)           │ Adds support for Full-Text Sea…  │ []                │\n",
       "│ httpfs           │ false   │ false     │                      │ Adds support for reading and w…  │ [http, https, s3] │\n",
       "│ icu              │ true    │ true      │ (BUILT-IN)           │ Adds support for time zones an…  │ []                │\n",
       "│ inet             │ false   │ false     │                      │ Adds support for IP-related da…  │ []                │\n",
       "│ jemalloc         │ false   │ false     │                      │ Overwrites system allocator wi…  │ []                │\n",
       "│ json             │ true    │ true      │ (BUILT-IN)           │ Adds support for JSON operations │ []                │\n",
       "│ motherduck       │ false   │ false     │                      │ Enables motherduck integration…  │ [md]              │\n",
       "│ parquet          │ true    │ true      │ (BUILT-IN)           │ Adds support for reading and w…  │ []                │\n",
       "│ postgres_scanner │ false   │ false     │                      │ Adds support for reading from …  │ [postgres]        │\n",
       "│ spatial          │ true    │ true      │ C:\\Users\\user\\.duc…  │ Geospatial extension that adds…  │ []                │\n",
       "│ sqlite_scanner   │ false   │ false     │                      │ Adds support for reading SQLit…  │ [sqlite, sqlite3] │\n",
       "│ tpcds            │ false   │ false     │                      │ Adds TPC-DS data generation an…  │ []                │\n",
       "│ tpch             │ true    │ true      │ (BUILT-IN)           │ Adds TPC-H data generation and…  │ []                │\n",
       "├──────────────────┴─────────┴───────────┴──────────────────────┴──────────────────────────────────┴───────────────────┤\n",
       "│ 14 rows                                                                                                    6 columns │\n",
       "└──────────────────────────────────────────────────────────────────────────────────────────────────────────────────────┘"
      ]
     },
     "execution_count": 55,
     "metadata": {},
     "output_type": "execute_result"
    }
   ],
   "source": [
    "conn.sql(\"select * from duckdb_extensions() ;\")"
   ]
  },
  {
   "cell_type": "code",
   "execution_count": 60,
   "id": "b3712eef-a0ec-4279-b8ca-56ea262344d9",
   "metadata": {},
   "outputs": [
    {
     "data": {
      "text/plain": [
       "┌───────────────────────────────────────────┐\n",
       "│                description                │\n",
       "│                  varchar                  │\n",
       "├───────────────────────────────────────────┤\n",
       "│ Adds support for Full-Text Search Indexes │\n",
       "└───────────────────────────────────────────┘"
      ]
     },
     "execution_count": 60,
     "metadata": {},
     "output_type": "execute_result"
    }
   ],
   "source": [
    "conn.sql(\"select description from duckdb_extensions() where extension_name='fts' ;\")"
   ]
  },
  {
   "cell_type": "code",
   "execution_count": 69,
   "id": "4eb67212-f49e-438a-a6b3-ea89769aae7d",
   "metadata": {},
   "outputs": [
    {
     "data": {
      "text/plain": [
       "┌───────────────┬─────────────┬───────────────┬───────────────┬───┬──────────┬──────────────┬─────────┐\n",
       "│ database_name │ schema_name │ function_name │ function_type │ … │ internal │ function_oid │ example │\n",
       "│    varchar    │   varchar   │    varchar    │    varchar    │   │ boolean  │    int64     │ varchar │\n",
       "├───────────────┼─────────────┼───────────────┼───────────────┼───┼──────────┼──────────────┼─────────┤\n",
       "│ system        │ main        │ st_read       │ table         │ … │ true     │         1450 │ NULL    │\n",
       "├───────────────┴─────────────┴───────────────┴───────────────┴───┴──────────┴──────────────┴─────────┤\n",
       "│ 1 rows                                                                         14 columns (7 shown) │\n",
       "└─────────────────────────────────────────────────────────────────────────────────────────────────────┘"
      ]
     },
     "execution_count": 69,
     "metadata": {},
     "output_type": "execute_result"
    }
   ],
   "source": [
    "conn.sql(\"select * from duckdb_functions() where function_name ='st_read';\")"
   ]
  },
  {
   "cell_type": "code",
   "execution_count": 71,
   "id": "d24701f3-0eaa-4736-8c99-13105f71c7df",
   "metadata": {},
   "outputs": [
    {
     "data": {
      "text/plain": [
       "┌───────────────┬──────────────┬─────────────┬────────────┬───┬───────────┬────────────┬─────────────┬─────────┐\n",
       "│ database_name │ database_oid │ schema_name │ schema_oid │ … │ is_unique │ is_primary │ expressions │   sql   │\n",
       "│    varchar    │    int64     │   varchar   │   int64    │   │  boolean  │  boolean   │   varchar   │ varchar │\n",
       "├──────────────────────────────────────────────────────────────────────────────────────────────────────────────┤\n",
       "│                                                    0 rows                                                    │\n",
       "└──────────────────────────────────────────────────────────────────────────────────────────────────────────────┘"
      ]
     },
     "execution_count": 71,
     "metadata": {},
     "output_type": "execute_result"
    }
   ],
   "source": [
    "conn.sql(\"select * from duckdb_indexes;\")"
   ]
  },
  {
   "cell_type": "markdown",
   "id": "4014b425-c973-4f86-a964-adcaf0df1c2c",
   "metadata": {},
   "source": [
    "---\n",
    "### CSV - read_csv 또는 read_csv_auto\n",
    "### JSON - read_json 또는 read_json_auto"
   ]
  },
  {
   "cell_type": "code",
   "execution_count": 76,
   "id": "24a53aa2-feb1-471f-b1ed-1e7d29f11c63",
   "metadata": {},
   "outputs": [],
   "source": [
    "import pandas as pd"
   ]
  },
  {
   "cell_type": "code",
   "execution_count": 82,
   "id": "5d695f6c-3f9a-4520-9554-bce3a88625e1",
   "metadata": {},
   "outputs": [],
   "source": [
    "df_insurance = pd.read_csv(\"./duckdb/insurance.csvv\")"
   ]
  },
  {
   "cell_type": "code",
   "execution_count": 83,
   "id": "711f0278-3f34-421b-b2f0-44237c0778a6",
   "metadata": {},
   "outputs": [
    {
     "data": {
      "text/html": [
       "<div>\n",
       "<style scoped>\n",
       "    .dataframe tbody tr th:only-of-type {\n",
       "        vertical-align: middle;\n",
       "    }\n",
       "\n",
       "    .dataframe tbody tr th {\n",
       "        vertical-align: top;\n",
       "    }\n",
       "\n",
       "    .dataframe thead th {\n",
       "        text-align: right;\n",
       "    }\n",
       "</style>\n",
       "<table border=\"1\" class=\"dataframe\">\n",
       "  <thead>\n",
       "    <tr style=\"text-align: right;\">\n",
       "      <th></th>\n",
       "      <th>age</th>\n",
       "      <th>sex</th>\n",
       "      <th>bmi</th>\n",
       "      <th>children</th>\n",
       "      <th>smoker</th>\n",
       "      <th>region</th>\n",
       "      <th>charges</th>\n",
       "    </tr>\n",
       "  </thead>\n",
       "  <tbody>\n",
       "    <tr>\n",
       "      <th>0</th>\n",
       "      <td>19</td>\n",
       "      <td>female</td>\n",
       "      <td>27.900</td>\n",
       "      <td>0</td>\n",
       "      <td>yes</td>\n",
       "      <td>southwest</td>\n",
       "      <td>16884.92400</td>\n",
       "    </tr>\n",
       "    <tr>\n",
       "      <th>1</th>\n",
       "      <td>18</td>\n",
       "      <td>male</td>\n",
       "      <td>33.770</td>\n",
       "      <td>1</td>\n",
       "      <td>no</td>\n",
       "      <td>southeast</td>\n",
       "      <td>1725.55230</td>\n",
       "    </tr>\n",
       "    <tr>\n",
       "      <th>2</th>\n",
       "      <td>28</td>\n",
       "      <td>male</td>\n",
       "      <td>33.000</td>\n",
       "      <td>3</td>\n",
       "      <td>no</td>\n",
       "      <td>southeast</td>\n",
       "      <td>4449.46200</td>\n",
       "    </tr>\n",
       "    <tr>\n",
       "      <th>3</th>\n",
       "      <td>33</td>\n",
       "      <td>male</td>\n",
       "      <td>22.705</td>\n",
       "      <td>0</td>\n",
       "      <td>no</td>\n",
       "      <td>northwest</td>\n",
       "      <td>21984.47061</td>\n",
       "    </tr>\n",
       "    <tr>\n",
       "      <th>4</th>\n",
       "      <td>32</td>\n",
       "      <td>male</td>\n",
       "      <td>28.880</td>\n",
       "      <td>0</td>\n",
       "      <td>no</td>\n",
       "      <td>northwest</td>\n",
       "      <td>3866.85520</td>\n",
       "    </tr>\n",
       "    <tr>\n",
       "      <th>...</th>\n",
       "      <td>...</td>\n",
       "      <td>...</td>\n",
       "      <td>...</td>\n",
       "      <td>...</td>\n",
       "      <td>...</td>\n",
       "      <td>...</td>\n",
       "      <td>...</td>\n",
       "    </tr>\n",
       "    <tr>\n",
       "      <th>1333</th>\n",
       "      <td>50</td>\n",
       "      <td>male</td>\n",
       "      <td>30.970</td>\n",
       "      <td>3</td>\n",
       "      <td>no</td>\n",
       "      <td>northwest</td>\n",
       "      <td>10600.54830</td>\n",
       "    </tr>\n",
       "    <tr>\n",
       "      <th>1334</th>\n",
       "      <td>18</td>\n",
       "      <td>female</td>\n",
       "      <td>31.920</td>\n",
       "      <td>0</td>\n",
       "      <td>no</td>\n",
       "      <td>northeast</td>\n",
       "      <td>2205.98080</td>\n",
       "    </tr>\n",
       "    <tr>\n",
       "      <th>1335</th>\n",
       "      <td>18</td>\n",
       "      <td>female</td>\n",
       "      <td>36.850</td>\n",
       "      <td>0</td>\n",
       "      <td>no</td>\n",
       "      <td>southeast</td>\n",
       "      <td>1629.83350</td>\n",
       "    </tr>\n",
       "    <tr>\n",
       "      <th>1336</th>\n",
       "      <td>21</td>\n",
       "      <td>female</td>\n",
       "      <td>25.800</td>\n",
       "      <td>0</td>\n",
       "      <td>no</td>\n",
       "      <td>southwest</td>\n",
       "      <td>2007.94500</td>\n",
       "    </tr>\n",
       "    <tr>\n",
       "      <th>1337</th>\n",
       "      <td>61</td>\n",
       "      <td>female</td>\n",
       "      <td>29.070</td>\n",
       "      <td>0</td>\n",
       "      <td>yes</td>\n",
       "      <td>northwest</td>\n",
       "      <td>29141.36030</td>\n",
       "    </tr>\n",
       "  </tbody>\n",
       "</table>\n",
       "<p>1338 rows × 7 columns</p>\n",
       "</div>"
      ],
      "text/plain": [
       "      age     sex     bmi  children smoker     region      charges\n",
       "0      19  female  27.900         0    yes  southwest  16884.92400\n",
       "1      18    male  33.770         1     no  southeast   1725.55230\n",
       "2      28    male  33.000         3     no  southeast   4449.46200\n",
       "3      33    male  22.705         0     no  northwest  21984.47061\n",
       "4      32    male  28.880         0     no  northwest   3866.85520\n",
       "...   ...     ...     ...       ...    ...        ...          ...\n",
       "1333   50    male  30.970         3     no  northwest  10600.54830\n",
       "1334   18  female  31.920         0     no  northeast   2205.98080\n",
       "1335   18  female  36.850         0     no  southeast   1629.83350\n",
       "1336   21  female  25.800         0     no  southwest   2007.94500\n",
       "1337   61  female  29.070         0    yes  northwest  29141.36030\n",
       "\n",
       "[1338 rows x 7 columns]"
      ]
     },
     "metadata": {},
     "output_type": "display_data"
    }
   ],
   "source": [
    "display(df_insurance)"
   ]
  },
  {
   "cell_type": "code",
   "execution_count": 84,
   "id": "a680f30b-2e8b-49c3-a838-3caf9d3fab7a",
   "metadata": {},
   "outputs": [
    {
     "data": {
      "text/plain": [
       "<duckdb.DuckDBPyConnection at 0x283c7b4d930>"
      ]
     },
     "execution_count": 84,
     "metadata": {},
     "output_type": "execute_result"
    }
   ],
   "source": [
    "conn.register(\"insurance\", df_insurance)"
   ]
  },
  {
   "cell_type": "code",
   "execution_count": 85,
   "id": "dbccffdc-2507-485d-b7da-9935703954f8",
   "metadata": {},
   "outputs": [
    {
     "data": {
      "text/plain": [
       "┌───────┬─────────┬────────┬──────────┬─────────┬───────────┬─────────────┐\n",
       "│  age  │   sex   │  bmi   │ children │ smoker  │  region   │   charges   │\n",
       "│ int64 │ varchar │ double │  int64   │ varchar │  varchar  │   double    │\n",
       "├───────┼─────────┼────────┼──────────┼─────────┼───────────┼─────────────┤\n",
       "│    19 │ female  │   27.9 │        0 │ yes     │ southwest │   16884.924 │\n",
       "│    18 │ male    │  33.77 │        1 │ no      │ southeast │   1725.5523 │\n",
       "│    28 │ male    │   33.0 │        3 │ no      │ southeast │    4449.462 │\n",
       "│    33 │ male    │ 22.705 │        0 │ no      │ northwest │ 21984.47061 │\n",
       "│    32 │ male    │  28.88 │        0 │ no      │ northwest │   3866.8552 │\n",
       "│    31 │ female  │  25.74 │        0 │ no      │ southeast │   3756.6216 │\n",
       "│    46 │ female  │  33.44 │        1 │ no      │ southeast │   8240.5896 │\n",
       "│    37 │ female  │  27.74 │        3 │ no      │ northwest │   7281.5056 │\n",
       "│    37 │ male    │  29.83 │        2 │ no      │ northeast │   6406.4107 │\n",
       "│    60 │ female  │  25.84 │        0 │ no      │ northwest │ 28923.13692 │\n",
       "│     · │   ·     │    ·   │        · │ ·       │     ·     │      ·      │\n",
       "│     · │   ·     │    ·   │        · │ ·       │     ·     │      ·      │\n",
       "│     · │   ·     │    ·   │        · │ ·       │     ·     │      ·      │\n",
       "│    23 │ female  │ 24.225 │        2 │ no      │ northeast │ 22395.74424 │\n",
       "│    52 │ male    │   38.6 │        2 │ no      │ southwest │   10325.206 │\n",
       "│    57 │ female  │  25.74 │        2 │ no      │ southeast │  12629.1656 │\n",
       "│    23 │ female  │   33.4 │        0 │ no      │ southwest │ 10795.93733 │\n",
       "│    52 │ female  │   44.7 │        3 │ no      │ southwest │   11411.685 │\n",
       "│    50 │ male    │  30.97 │        3 │ no      │ northwest │  10600.5483 │\n",
       "│    18 │ female  │  31.92 │        0 │ no      │ northeast │   2205.9808 │\n",
       "│    18 │ female  │  36.85 │        0 │ no      │ southeast │   1629.8335 │\n",
       "│    21 │ female  │   25.8 │        0 │ no      │ southwest │    2007.945 │\n",
       "│    61 │ female  │  29.07 │        0 │ yes     │ northwest │  29141.3603 │\n",
       "├───────┴─────────┴────────┴──────────┴─────────┴───────────┴─────────────┤\n",
       "│ 1338 rows (20 shown)                                          7 columns │\n",
       "└─────────────────────────────────────────────────────────────────────────┘"
      ]
     },
     "execution_count": 85,
     "metadata": {},
     "output_type": "execute_result"
    }
   ],
   "source": [
    "conn.sql(\"select * from insurance;\")"
   ]
  },
  {
   "cell_type": "code",
   "execution_count": 117,
   "id": "400e7bf3-af3e-4642-b221-b48ed634e7bb",
   "metadata": {},
   "outputs": [],
   "source": [
    "conn.sql(\"CREATE TABLE insurance2 AS SELECT * FROM read_csv_auto('./duckdb/insurance.csvv');\")"
   ]
  },
  {
   "cell_type": "code",
   "execution_count": 118,
   "id": "c4ec2f29-e1d9-4510-8bb9-90552132a18c",
   "metadata": {},
   "outputs": [
    {
     "data": {
      "text/plain": [
       "┌───────┬─────────┬────────┬──────────┬─────────┬───────────┬─────────────┐\n",
       "│  age  │   sex   │  bmi   │ children │ smoker  │  region   │   charges   │\n",
       "│ int64 │ varchar │ double │  int64   │ varchar │  varchar  │   double    │\n",
       "├───────┼─────────┼────────┼──────────┼─────────┼───────────┼─────────────┤\n",
       "│    19 │ female  │   27.9 │        0 │ yes     │ southwest │   16884.924 │\n",
       "│    18 │ male    │  33.77 │        1 │ no      │ southeast │   1725.5523 │\n",
       "│    28 │ male    │   33.0 │        3 │ no      │ southeast │    4449.462 │\n",
       "│    33 │ male    │ 22.705 │        0 │ no      │ northwest │ 21984.47061 │\n",
       "│    32 │ male    │  28.88 │        0 │ no      │ northwest │   3866.8552 │\n",
       "│    31 │ female  │  25.74 │        0 │ no      │ southeast │   3756.6216 │\n",
       "│    46 │ female  │  33.44 │        1 │ no      │ southeast │   8240.5896 │\n",
       "│    37 │ female  │  27.74 │        3 │ no      │ northwest │   7281.5056 │\n",
       "│    37 │ male    │  29.83 │        2 │ no      │ northeast │   6406.4107 │\n",
       "│    60 │ female  │  25.84 │        0 │ no      │ northwest │ 28923.13692 │\n",
       "│     · │   ·     │    ·   │        · │ ·       │     ·     │      ·      │\n",
       "│     · │   ·     │    ·   │        · │ ·       │     ·     │      ·      │\n",
       "│     · │   ·     │    ·   │        · │ ·       │     ·     │      ·      │\n",
       "│    23 │ female  │ 24.225 │        2 │ no      │ northeast │ 22395.74424 │\n",
       "│    52 │ male    │   38.6 │        2 │ no      │ southwest │   10325.206 │\n",
       "│    57 │ female  │  25.74 │        2 │ no      │ southeast │  12629.1656 │\n",
       "│    23 │ female  │   33.4 │        0 │ no      │ southwest │ 10795.93733 │\n",
       "│    52 │ female  │   44.7 │        3 │ no      │ southwest │   11411.685 │\n",
       "│    50 │ male    │  30.97 │        3 │ no      │ northwest │  10600.5483 │\n",
       "│    18 │ female  │  31.92 │        0 │ no      │ northeast │   2205.9808 │\n",
       "│    18 │ female  │  36.85 │        0 │ no      │ southeast │   1629.8335 │\n",
       "│    21 │ female  │   25.8 │        0 │ no      │ southwest │    2007.945 │\n",
       "│    61 │ female  │  29.07 │        0 │ yes     │ northwest │  29141.3603 │\n",
       "├───────┴─────────┴────────┴──────────┴─────────┴───────────┴─────────────┤\n",
       "│ 1338 rows (20 shown)                                          7 columns │\n",
       "└─────────────────────────────────────────────────────────────────────────┘"
      ]
     },
     "execution_count": 118,
     "metadata": {},
     "output_type": "execute_result"
    }
   ],
   "source": [
    "conn.sql(\"select * from insurance2;\")"
   ]
  },
  {
   "cell_type": "code",
   "execution_count": 95,
   "id": "8421c3fa-9723-4f87-8c24-d92e355d0b01",
   "metadata": {},
   "outputs": [
    {
     "data": {
      "text/plain": [
       "<duckdb.DuckDBPyConnection at 0x283d3e71f70>"
      ]
     },
     "execution_count": 95,
     "metadata": {},
     "output_type": "execute_result"
    }
   ],
   "source": [
    "df = conn.sql(\"SELECT * FROM read_csv_auto('./duckdb/insurance.csvv') \").df()\n",
    "\n",
    "conn.register(\"insurance\", df)"
   ]
  },
  {
   "cell_type": "code",
   "execution_count": 115,
   "id": "90ed9593-68d2-4d9b-abb6-710cdc388134",
   "metadata": {},
   "outputs": [
    {
     "data": {
      "text/plain": [
       "┌───────┬─────────┬────────┬──────────┬─────────┬───────────┬─────────────┐\n",
       "│  age  │   sex   │  bmi   │ children │ smoker  │  region   │   charges   │\n",
       "│ int64 │ varchar │ double │  int64   │ varchar │  varchar  │   double    │\n",
       "├───────┼─────────┼────────┼──────────┼─────────┼───────────┼─────────────┤\n",
       "│    19 │ female  │   27.9 │        0 │ yes     │ southwest │   16884.924 │\n",
       "│    18 │ male    │  33.77 │        1 │ no      │ southeast │   1725.5523 │\n",
       "│    28 │ male    │   33.0 │        3 │ no      │ southeast │    4449.462 │\n",
       "│    33 │ male    │ 22.705 │        0 │ no      │ northwest │ 21984.47061 │\n",
       "│    32 │ male    │  28.88 │        0 │ no      │ northwest │   3866.8552 │\n",
       "│    31 │ female  │  25.74 │        0 │ no      │ southeast │   3756.6216 │\n",
       "│    46 │ female  │  33.44 │        1 │ no      │ southeast │   8240.5896 │\n",
       "│    37 │ female  │  27.74 │        3 │ no      │ northwest │   7281.5056 │\n",
       "│    37 │ male    │  29.83 │        2 │ no      │ northeast │   6406.4107 │\n",
       "│    60 │ female  │  25.84 │        0 │ no      │ northwest │ 28923.13692 │\n",
       "│     · │   ·     │    ·   │        · │ ·       │     ·     │      ·      │\n",
       "│     · │   ·     │    ·   │        · │ ·       │     ·     │      ·      │\n",
       "│     · │   ·     │    ·   │        · │ ·       │     ·     │      ·      │\n",
       "│    23 │ female  │ 24.225 │        2 │ no      │ northeast │ 22395.74424 │\n",
       "│    52 │ male    │   38.6 │        2 │ no      │ southwest │   10325.206 │\n",
       "│    57 │ female  │  25.74 │        2 │ no      │ southeast │  12629.1656 │\n",
       "│    23 │ female  │   33.4 │        0 │ no      │ southwest │ 10795.93733 │\n",
       "│    52 │ female  │   44.7 │        3 │ no      │ southwest │   11411.685 │\n",
       "│    50 │ male    │  30.97 │        3 │ no      │ northwest │  10600.5483 │\n",
       "│    18 │ female  │  31.92 │        0 │ no      │ northeast │   2205.9808 │\n",
       "│    18 │ female  │  36.85 │        0 │ no      │ southeast │   1629.8335 │\n",
       "│    21 │ female  │   25.8 │        0 │ no      │ southwest │    2007.945 │\n",
       "│    61 │ female  │  29.07 │        0 │ yes     │ northwest │  29141.3603 │\n",
       "├───────┴─────────┴────────┴──────────┴─────────┴───────────┴─────────────┤\n",
       "│ 1338 rows (20 shown)                                          7 columns │\n",
       "└─────────────────────────────────────────────────────────────────────────┘"
      ]
     },
     "execution_count": 115,
     "metadata": {},
     "output_type": "execute_result"
    }
   ],
   "source": [
    "conn.sql(\"select * from insurance;\")"
   ]
  },
  {
   "cell_type": "code",
   "execution_count": 114,
   "id": "9d213052-b0a8-4e57-863a-217862c667cf",
   "metadata": {},
   "outputs": [
    {
     "data": {
      "image/png": "[encoded data removed]",
      "text/plain": [
       "<Figure size 500x300 with 1 Axes>"
      ]
     },
     "metadata": {},
     "output_type": "display_data"
    }
   ],
   "source": [
    "import seaborn as sns\n",
    "import matplotlib.pyplot as plt\n",
    "f, ax = plt.subplots(1, 1, figsize=(5, 3))\n",
    "\n",
    "# duckdb의 수행결과를 df 데이터프레임에 반환\n",
    "df = conn.sql(\"SELECT * FROM insurance;\").df()\n",
    "\n",
    "ax = sns.barplot(x = 'region', \n",
    "                 y = 'charges', \n",
    "                 hue = 'sex', \n",
    "                 data = df, \n",
    "                 palette = 'cool', \n",
    "                 errorbar = None)"
   ]
  },
  {
   "cell_type": "code",
   "execution_count": 104,
   "id": "7a848484-9c75-401b-b8e4-c990b539e936",
   "metadata": {},
   "outputs": [
    {
     "data": {
      "text/plain": [
       "pandas.core.frame.DataFrame"
      ]
     },
     "execution_count": 104,
     "metadata": {},
     "output_type": "execute_result"
    }
   ],
   "source": [
    "type(df)"
   ]
  },
  {
   "cell_type": "code",
   "execution_count": null,
   "id": "bd30d2a4-651c-4173-946f-56c538806fca",
   "metadata": {},
   "outputs": [],
   "source": []
  },
  {
   "cell_type": "code",
   "execution_count": null,
   "id": "d1a6fb9e-d503-4531-8d11-c5771ba68b96",
   "metadata": {},
   "outputs": [],
   "source": []
  },
  {
   "cell_type": "markdown",
   "id": "3c908a7c-1054-4f78-8582-6a75cbb41587",
   "metadata": {},
   "source": [
    "### 영구 저장소(Disk Storage)\n",
    "#### - DuckDB는 프로세스 내에서 실시간으로 메모리에 DB를 생성하고 프로세스가 종료되면 삭제됨\n",
    "#### - DB Connect시 물리적은 디스크를 지정하면 프로세스가 끝나도 결과가 파일에 저장되고 다시 읽어올수 있음"
   ]
  },
  {
   "cell_type": "code",
   "execution_count": 128,
   "id": "78ace56f-4a23-4111-83ff-e42254f80ca7",
   "metadata": {},
   "outputs": [
    {
     "data": {
      "text/plain": [
       "<duckdb.DuckDBPyConnection at 0x283a6547bf0>"
      ]
     },
     "execution_count": 128,
     "metadata": {},
     "output_type": "execute_result"
    }
   ],
   "source": [
    "con = dk.connect('./duckdb/duckdb_test.db')\n",
    "con.execute('INSTALL spatial') # 확장프로그램(spatial) 최초 한번만 실행하면 됨\n",
    "con.execute('LOAD spatial') # 확장프로그램(spatial) 최초 한번만 실행하면 됨"
   ]
  },
  {
   "cell_type": "code",
   "execution_count": 129,
   "id": "b4b46e38-f291-43d6-9997-f1fb52754605",
   "metadata": {},
   "outputs": [
    {
     "data": {
      "application/vnd.jupyter.widget-view+json": {
       "model_id": "1c2f83a2ebcc4696acc629f5e9101c77",
       "version_major": 2,
       "version_minor": 0
      },
      "text/plain": [
       "FloatProgress(value=0.0, layout=Layout(width='auto'), style=ProgressStyle(bar_color='black'))"
      ]
     },
     "metadata": {},
     "output_type": "display_data"
    },
    {
     "name": "stdout",
     "output_type": "stream",
     "text": [
      "0:00:31.913114\n"
     ]
    }
   ],
   "source": [
    "start = time.time()\n",
    "con.sql(\"CREATE TABLE dugo AS SELECT * FROM st_read('./duckdb/dugo.xlsx');\")\n",
    "end = time.time()\n",
    "sec = (end - start)\n",
    "result = datetime.timedelta(seconds=sec)\n",
    "print(result)"
   ]
  },
  {
   "cell_type": "code",
   "execution_count": 130,
   "id": "eabd1c49-9c38-46df-b861-5bcf9f5ed79e",
   "metadata": {},
   "outputs": [
    {
     "data": {
      "text/plain": [
       "┌───────────────┬──────────────┬────────────┬────────────┬───┬────────────────────┬──────────┬───────────────┐\n",
       "│ table_catalog │ table_schema │ table_name │ table_type │ … │ is_insertable_into │ is_typed │ commit_action │\n",
       "│    varchar    │   varchar    │  varchar   │  varchar   │   │      varchar       │ varchar  │    varchar    │\n",
       "├───────────────┼──────────────┼────────────┼────────────┼───┼────────────────────┼──────────┼───────────────┤\n",
       "│ duckdb_test   │ main         │ dugo       │ BASE TABLE │ … │ YES                │ NO       │ NULL          │\n",
       "├───────────────┴──────────────┴────────────┴────────────┴───┴────────────────────┴──────────┴───────────────┤\n",
       "│ 1 rows                                                                                12 columns (7 shown) │\n",
       "└────────────────────────────────────────────────────────────────────────────────────────────────────────────┘"
      ]
     },
     "execution_count": 130,
     "metadata": {},
     "output_type": "execute_result"
    }
   ],
   "source": [
    "con.sql('select * from information_schema.tables;')"
   ]
  },
  {
   "cell_type": "code",
   "execution_count": 132,
   "id": "1c65b9d3-c60e-4a8d-9a4f-a0ff174e4dcd",
   "metadata": {},
   "outputs": [
    {
     "data": {
      "text/plain": [
       "┌──────────────────────┬────────┐\n",
       "│ 검사결과등록세관부호 │  cns   │\n",
       "│       varchar        │ int64  │\n",
       "├──────────────────────┼────────┤\n",
       "│ 040                  │ 775718 │\n",
       "│ 140                  │  83316 │\n",
       "│ 041                  │  47430 │\n",
       "│ 020                  │  31828 │\n",
       "│ 120                  │  27901 │\n",
       "│ 016                  │  24053 │\n",
       "│ 030                  │  19800 │\n",
       "│ 090                  │  11918 │\n",
       "│ 080                  │  11173 │\n",
       "│ 071                  │   7683 │\n",
       "│  ·                   │      · │\n",
       "│  ·                   │      · │\n",
       "│  ·                   │      · │\n",
       "│ 053                  │      9 │\n",
       "│ 154                  │      6 │\n",
       "│ 050                  │      5 │\n",
       "│ 054                  │      5 │\n",
       "│ 122                  │      5 │\n",
       "│ 103                  │      4 │\n",
       "│ 052                  │      4 │\n",
       "│ 012                  │      3 │\n",
       "│ 051                  │      2 │\n",
       "│ 017                  │      1 │\n",
       "├──────────────────────┴────────┤\n",
       "│ 27 rows (20 shown)  2 columns │\n",
       "└───────────────────────────────┘"
      ]
     },
     "execution_count": 132,
     "metadata": {},
     "output_type": "execute_result"
    }
   ],
   "source": [
    "con.sql(\"select 검사결과등록세관부호,count(*) cns from dugo group by 검사결과등록세관부호 order by 2 desc;\")"
   ]
  },
  {
   "cell_type": "code",
   "execution_count": 133,
   "id": "de7e6eb0-8911-45be-a8ae-8668e93828b1",
   "metadata": {},
   "outputs": [],
   "source": [
    "# 연결종료\n",
    "con.close()"
   ]
  },
  {
   "cell_type": "code",
   "execution_count": 134,
   "id": "307d5dde-2010-4136-85d8-1b64ac02aaff",
   "metadata": {},
   "outputs": [],
   "source": [
    "# DB연결\n",
    "con = dk.connect('./duckdb/duckdb_test.db')"
   ]
  },
  {
   "cell_type": "code",
   "execution_count": 135,
   "id": "e95e9768-794d-41a6-8e91-d06cf62ba099",
   "metadata": {},
   "outputs": [
    {
     "data": {
      "text/plain": [
       "┌──────────────────────┬────────┐\n",
       "│ 검사결과등록세관부호 │  cns   │\n",
       "│       varchar        │ int64  │\n",
       "├──────────────────────┼────────┤\n",
       "│ 040                  │ 775718 │\n",
       "│ 140                  │  83316 │\n",
       "│ 041                  │  47430 │\n",
       "│ 020                  │  31828 │\n",
       "│ 120                  │  27901 │\n",
       "│ 016                  │  24053 │\n",
       "│ 030                  │  19800 │\n",
       "│ 090                  │  11918 │\n",
       "│ 080                  │  11173 │\n",
       "│ 071                  │   7683 │\n",
       "│  ·                   │      · │\n",
       "│  ·                   │      · │\n",
       "│  ·                   │      · │\n",
       "│ 053                  │      9 │\n",
       "│ 154                  │      6 │\n",
       "│ 050                  │      5 │\n",
       "│ 122                  │      5 │\n",
       "│ 054                  │      5 │\n",
       "│ 052                  │      4 │\n",
       "│ 103                  │      4 │\n",
       "│ 012                  │      3 │\n",
       "│ 051                  │      2 │\n",
       "│ 017                  │      1 │\n",
       "├──────────────────────┴────────┤\n",
       "│ 27 rows (20 shown)  2 columns │\n",
       "└───────────────────────────────┘"
      ]
     },
     "execution_count": 135,
     "metadata": {},
     "output_type": "execute_result"
    }
   ],
   "source": [
    "# DB에 저장된 테이블을 조회\n",
    "con.sql(\"select 검사결과등록세관부호,count(*) cns from dugo group by 검사결과등록세관부호 order by 2 desc;\")"
   ]
  },
  {
   "cell_type": "code",
   "execution_count": null,
   "id": "d5035a8c-10df-421d-96a8-11546be36b9b",
   "metadata": {},
   "outputs": [],
   "source": []
  }
 ],
 "metadata": {
  "kernelspec": {
   "display_name": "ml308",
   "language": "python",
   "name": "ml308"
  },
  "language_info": {
   "codemirror_mode": {
    "name": "ipython",
    "version": 3
   },
   "file_extension": ".py",
   "mimetype": "text/x-python",
   "name": "python",
   "nbconvert_exporter": "python",
   "pygments_lexer": "ipython3",
   "version": "3.8.10"
  }
 },
 "nbformat": 4,
 "nbformat_minor": 5
}
