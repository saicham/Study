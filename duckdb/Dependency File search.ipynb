{
 "cells": [
  {
   "cell_type": "code",
   "execution_count": 31,
   "id": "54113786-0c9f-4190-b9b2-5546d4c37bbe",
   "metadata": {},
   "outputs": [
    {
     "ename": "UnicodeDecodeError",
     "evalue": "'charmap' codec can't decode byte 0x81 in position 3589: character maps to <undefined>",
     "output_type": "error",
     "traceback": [
      "\u001b[1;31m---------------------------------------------------------------------------\u001b[0m",
      "\u001b[1;31mUnicodeDecodeError\u001b[0m                        Traceback (most recent call last)",
      "Cell \u001b[1;32mIn[31], line 32\u001b[0m\n\u001b[0;32m     29\u001b[0m     \u001b[38;5;28;01mreturn\u001b[39;00m dependent_files\n\u001b[0;32m     31\u001b[0m \u001b[38;5;66;03m# 의존하는 파일을 찾기 위한 함수 호출\u001b[39;00m\n\u001b[1;32m---> 32\u001b[0m dependent_files \u001b[38;5;241m=\u001b[39m \u001b[43mfind_dependent_files\u001b[49m\u001b[43m(\u001b[49m\u001b[43mtarget_file\u001b[49m\u001b[43m,\u001b[49m\u001b[43m \u001b[49m\u001b[43msearch_dir\u001b[49m\u001b[43m)\u001b[49m\n\u001b[0;32m     34\u001b[0m \u001b[38;5;66;03m# 결과 출력\u001b[39;00m\n\u001b[0;32m     35\u001b[0m \u001b[38;5;28mprint\u001b[39m(\u001b[38;5;124m\"\u001b[39m\u001b[38;5;124mDependent files:\u001b[39m\u001b[38;5;124m\"\u001b[39m)\n",
      "Cell \u001b[1;32mIn[31], line 26\u001b[0m, in \u001b[0;36mfind_dependent_files\u001b[1;34m(target_file, search_dir)\u001b[0m\n\u001b[0;32m     24\u001b[0m \u001b[38;5;66;03m# 파일 내용 읽기\u001b[39;00m\n\u001b[0;32m     25\u001b[0m \u001b[38;5;28;01mwith\u001b[39;00m \u001b[38;5;28mopen\u001b[39m(file_path, \u001b[38;5;124m\"\u001b[39m\u001b[38;5;124mr\u001b[39m\u001b[38;5;124m\"\u001b[39m, encoding\u001b[38;5;241m=\u001b[39mfile_encoding) \u001b[38;5;28;01mas\u001b[39;00m f:\n\u001b[1;32m---> 26\u001b[0m     file_content \u001b[38;5;241m=\u001b[39m \u001b[43mf\u001b[49m\u001b[38;5;241;43m.\u001b[39;49m\u001b[43mread\u001b[49m\u001b[43m(\u001b[49m\u001b[43m)\u001b[49m\n\u001b[0;32m     27\u001b[0m     \u001b[38;5;28;01mif\u001b[39;00m target_file \u001b[38;5;129;01min\u001b[39;00m file_content:\n\u001b[0;32m     28\u001b[0m         dependent_files\u001b[38;5;241m.\u001b[39mappend(file_path)\n",
      "File \u001b[1;32mC:\\python\\py3.8.10\\lib\\encodings\\cp1254.py:23\u001b[0m, in \u001b[0;36mIncrementalDecoder.decode\u001b[1;34m(self, input, final)\u001b[0m\n\u001b[0;32m     22\u001b[0m \u001b[38;5;28;01mdef\u001b[39;00m \u001b[38;5;21mdecode\u001b[39m(\u001b[38;5;28mself\u001b[39m, \u001b[38;5;28minput\u001b[39m, final\u001b[38;5;241m=\u001b[39m\u001b[38;5;28;01mFalse\u001b[39;00m):\n\u001b[1;32m---> 23\u001b[0m     \u001b[38;5;28;01mreturn\u001b[39;00m \u001b[43mcodecs\u001b[49m\u001b[38;5;241;43m.\u001b[39;49m\u001b[43mcharmap_decode\u001b[49m\u001b[43m(\u001b[49m\u001b[38;5;28;43minput\u001b[39;49m\u001b[43m,\u001b[49m\u001b[38;5;28;43mself\u001b[39;49m\u001b[38;5;241;43m.\u001b[39;49m\u001b[43merrors\u001b[49m\u001b[43m,\u001b[49m\u001b[43mdecoding_table\u001b[49m\u001b[43m)\u001b[49m[\u001b[38;5;241m0\u001b[39m]\n",
      "\u001b[1;31mUnicodeDecodeError\u001b[0m: 'charmap' codec can't decode byte 0x81 in position 3589: character maps to <undefined>"
     ]
    }
   ],
   "source": [
    "import os\n",
    "import chardet\n",
    "\n",
    "# 검색 대상 폴더 경로\n",
    "search_dir = \"../\"\n",
    "\n",
    "# 의존하는 파일을 찾을 대상 파일 경로\n",
    "target_file = \"../a.txt\"\n",
    "\n",
    "# 의존하는 파일을 찾을 함수\n",
    "def find_dependent_files(target_file, search_dir):\n",
    "    dependent_files = []\n",
    "    # 검색 대상 폴더 내의 모든 파일 및 폴더 순회\n",
    "    for root, dirs, files in os.walk(search_dir):\n",
    "        for file in files:\n",
    "            # 확장자가 .py인 경우에만 파일 내용 비교\n",
    "            if file.endswith(\".py\"):\n",
    "                file_path = os.path.join(root, file)\n",
    "                # 파일의 실제 인코딩 확인\n",
    "                with open(file_path, \"rb\") as f:\n",
    "                    raw_data = f.read()\n",
    "                    result = chardet.detect(raw_data)\n",
    "                    file_encoding = result[\"encoding\"]\n",
    "                # 파일 내용 읽기\n",
    "                with open(file_path, \"r\", encoding=file_encoding) as f:\n",
    "                    file_content = f.read()\n",
    "                    if target_file in file_content:\n",
    "                        dependent_files.append(file_path)\n",
    "    return dependent_files\n",
    "\n",
    "# 의존하는 파일을 찾기 위한 함수 호출\n",
    "dependent_files = find_dependent_files(target_file, search_dir)\n",
    "\n",
    "# 결과 출력\n",
    "print(\"Dependent files:\")\n",
    "for dependent_file in dependent_files:\n",
    "    print(dependent_file)"
   ]
  },
  {
   "cell_type": "code",
   "execution_count": 18,
   "id": "6b610462-ed23-4949-a8f4-5eb2c2ca1dc0",
   "metadata": {},
   "outputs": [
    {
     "data": {
      "text/plain": [
       "[]"
      ]
     },
     "execution_count": 18,
     "metadata": {},
     "output_type": "execute_result"
    }
   ],
   "source": [
    "dependent_files"
   ]
  },
  {
   "cell_type": "code",
   "execution_count": 30,
   "id": "765814d1-faa8-4791-ad16-69f02a1331c8",
   "metadata": {},
   "outputs": [
    {
     "ename": "ModuleNotFoundError",
     "evalue": "No module named 'chardet'",
     "output_type": "error",
     "traceback": [
      "\u001b[1;31m---------------------------------------------------------------------------\u001b[0m",
      "\u001b[1;31mModuleNotFoundError\u001b[0m                       Traceback (most recent call last)",
      "Cell \u001b[1;32mIn[30], line 1\u001b[0m\n\u001b[1;32m----> 1\u001b[0m \u001b[38;5;28;01mimport\u001b[39;00m \u001b[38;5;21;01mchardet\u001b[39;00m\n",
      "\u001b[1;31mModuleNotFoundError\u001b[0m: No module named 'chardet'"
     ]
    }
   ],
   "source": [
    "import chardet"
   ]
  },
  {
   "cell_type": "code",
   "execution_count": 16,
   "id": "682590eb-2748-4ad0-ae36-2d24a6538ef7",
   "metadata": {},
   "outputs": [
    {
     "data": {
      "text/plain": [
       "['.ipynb_checkpoints', 'a.txt', 'ml308', 'py3.8.10', 'study']"
      ]
     },
     "execution_count": 16,
     "metadata": {},
     "output_type": "execute_result"
    }
   ],
   "source": [
    "os.listdir('../')"
   ]
  }
 ],
 "metadata": {
  "kernelspec": {
   "display_name": "ml308",
   "language": "python",
   "name": "ml308"
  },
  "language_info": {
   "codemirror_mode": {
    "name": "ipython",
    "version": 3
   },
   "file_extension": ".py",
   "mimetype": "text/x-python",
   "name": "python",
   "nbconvert_exporter": "python",
   "pygments_lexer": "ipython3",
   "version": "3.8.10"
  }
 },
 "nbformat": 4,
 "nbformat_minor": 5
}
