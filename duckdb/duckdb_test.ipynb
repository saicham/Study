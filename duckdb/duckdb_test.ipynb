{
 "cells": [
  {
   "cell_type": "code",
   "execution_count": 1,
   "id": "3aae503f-ab76-4829-af13-569263d99fe8",
   "metadata": {},
   "outputs": [],
   "source": [
    "import duckdb"
   ]
  },
  {
   "cell_type": "code",
   "execution_count": 2,
   "id": "6c80dedf-c872-49d0-8c3f-eadff1fe5ef6",
   "metadata": {},
   "outputs": [
    {
     "ename": "CatalogException",
     "evalue": "Catalog Error: Table with name xlsx does not exist!\nDid you mean \"information_schema.tables\"?",
     "output_type": "error",
     "traceback": [
      "\u001b[1;31m---------------------------------------------------------------------------\u001b[0m",
      "\u001b[1;31mCatalogException\u001b[0m                          Traceback (most recent call last)",
      "Cell \u001b[1;32mIn[2], line 1\u001b[0m\n\u001b[1;32m----> 1\u001b[0m \u001b[43mduckdb\u001b[49m\u001b[38;5;241;43m.\u001b[39;49m\u001b[43msql\u001b[49m\u001b[43m(\u001b[49m\u001b[38;5;124;43m\"\u001b[39;49m\u001b[38;5;124;43mselect * from 휴대품검사결과.xlsx limit 5\u001b[39;49m\u001b[38;5;124;43m\"\u001b[39;49m\u001b[43m)\u001b[49m\n",
      "\u001b[1;31mCatalogException\u001b[0m: Catalog Error: Table with name xlsx does not exist!\nDid you mean \"information_schema.tables\"?"
     ]
    }
   ],
   "source": [
    "duckdb.sql(\"select * from 휴대품검사결과.xlsx limit 5\")"
   ]
  },
  {
   "cell_type": "code",
   "execution_count": 4,
   "id": "625d70cb-3b77-442a-b550-137428aa691e",
   "metadata": {},
   "outputs": [],
   "source": [
    "con = duckdb.connect(database =':memory:')"
   ]
  },
  {
   "cell_type": "code",
   "execution_count": 5,
   "id": "535c5d9e-175e-4086-acb8-6e543139e160",
   "metadata": {},
   "outputs": [
    {
     "data": {
      "text/plain": [
       "<duckdb.DuckDBPyConnection at 0x23223373470>"
      ]
     },
     "execution_count": 5,
     "metadata": {},
     "output_type": "execute_result"
    }
   ],
   "source": [
    "con.execute('INSTALL spatial')"
   ]
  },
  {
   "cell_type": "code",
   "execution_count": 6,
   "id": "c8dedab0-c155-4561-b9b9-a3d1263f119f",
   "metadata": {},
   "outputs": [
    {
     "data": {
      "text/plain": [
       "<duckdb.DuckDBPyConnection at 0x23223373470>"
      ]
     },
     "execution_count": 6,
     "metadata": {},
     "output_type": "execute_result"
    }
   ],
   "source": [
    "con.execute('LOAD spatial')"
   ]
  },
  {
   "cell_type": "code",
   "execution_count": 10,
   "id": "abbbecf7-30ab-45da-9e98-5c5443e7b30e",
   "metadata": {},
   "outputs": [],
   "source": [
    "df = con.execute(\"select * from st_read('휴대품검사결과.xlsx');\").fetchall()"
   ]
  },
  {
   "cell_type": "code",
   "execution_count": 13,
   "id": "27df2925-93c8-4114-b8c6-69590f0f7e73",
   "metadata": {},
   "outputs": [
    {
     "name": "stderr",
     "output_type": "stream",
     "text": [
      "IOPub data rate exceeded.\n",
      "The Jupyter server will temporarily stop sending output\n",
      "to the client in order to avoid crashing it.\n",
      "To change this limit, set the config variable\n",
      "`--ServerApp.iopub_data_rate_limit`.\n",
      "\n",
      "Current values:\n",
      "ServerApp.iopub_data_rate_limit=1000000.0 (bytes/sec)\n",
      "ServerApp.rate_limit_window=3.0 (secs)\n",
      "\n"
     ]
    }
   ],
   "source": [
    "print(df)"
   ]
  },
  {
   "cell_type": "code",
   "execution_count": 14,
   "id": "e899f3f7-cb07-41d9-8107-f697f6c785e1",
   "metadata": {},
   "outputs": [],
   "source": [
    "con.sql(\"CREATE TABLE new_table AS SELECT * FROM st_read('휴대품검사결과.xlsx');\")"
   ]
  },
  {
   "cell_type": "code",
   "execution_count": 18,
   "id": "7d4e1f71-15c2-4aef-891c-861621c7ea37",
   "metadata": {},
   "outputs": [
    {
     "data": {
      "text/plain": [
       "┌──────────────────────┬────────┐\n",
       "│ 검사결과등록세관부호 │  cns   │\n",
       "│       varchar        │ int64  │\n",
       "├──────────────────────┼────────┤\n",
       "│ 040                  │ 775718 │\n",
       "│ 140                  │  83316 │\n",
       "│ 041                  │  47430 │\n",
       "│ 020                  │  31828 │\n",
       "│ 120                  │  27901 │\n",
       "│ 016                  │  24053 │\n",
       "│ 030                  │  19800 │\n",
       "│ 090                  │  11918 │\n",
       "│ 080                  │  11173 │\n",
       "│ 071                  │   7683 │\n",
       "│  ·                   │      · │\n",
       "│  ·                   │      · │\n",
       "│  ·                   │      · │\n",
       "│ 053                  │      9 │\n",
       "│ 154                  │      6 │\n",
       "│ 054                  │      5 │\n",
       "│ 050                  │      5 │\n",
       "│ 122                  │      5 │\n",
       "│ 103                  │      4 │\n",
       "│ 052                  │      4 │\n",
       "│ 012                  │      3 │\n",
       "│ 051                  │      2 │\n",
       "│ 017                  │      1 │\n",
       "├──────────────────────┴────────┤\n",
       "│ 27 rows (20 shown)  2 columns │\n",
       "└───────────────────────────────┘"
      ]
     },
     "execution_count": 18,
     "metadata": {},
     "output_type": "execute_result"
    }
   ],
   "source": [
    "con.sql(\"select 검사결과등록세관부호,count(*) cns from new_table group by 검사결과등록세관부호 order by 2 desc;\")"
   ]
  },
  {
   "cell_type": "code",
   "execution_count": null,
   "id": "04b7a57a-d9a5-44e8-a8b2-6cde9d80c52a",
   "metadata": {},
   "outputs": [],
   "source": []
  }
 ],
 "metadata": {
  "kernelspec": {
   "display_name": "ml308",
   "language": "python",
   "name": "ml308"
  },
  "language_info": {
   "codemirror_mode": {
    "name": "ipython",
    "version": 3
   },
   "file_extension": ".py",
   "mimetype": "text/x-python",
   "name": "python",
   "nbconvert_exporter": "python",
   "pygments_lexer": "ipython3",
   "version": "3.8.10"
  }
 },
 "nbformat": 4,
 "nbformat_minor": 5
}
