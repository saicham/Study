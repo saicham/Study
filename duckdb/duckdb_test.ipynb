{
 "cells": [
  {
   "cell_type": "code",
   "execution_count": 14,
   "id": "3aae503f-ab76-4829-af13-569263d99fe8",
   "metadata": {},
   "outputs": [],
   "source": [
    "import duckdb\n",
    "import time\n",
    "import datetime\n",
    "import pandas as pd"
   ]
  },
  {
   "cell_type": "code",
   "execution_count": 3,
   "id": "625d70cb-3b77-442a-b550-137428aa691e",
   "metadata": {},
   "outputs": [],
   "source": [
    "con = duckdb.connect(database =':memory:')"
   ]
  },
  {
   "cell_type": "code",
   "execution_count": 4,
   "id": "535c5d9e-175e-4086-acb8-6e543139e160",
   "metadata": {},
   "outputs": [
    {
     "data": {
      "text/plain": [
       "<duckdb.DuckDBPyConnection at 0x223ca0b3670>"
      ]
     },
     "execution_count": 4,
     "metadata": {},
     "output_type": "execute_result"
    }
   ],
   "source": [
    "con.execute('INSTALL spatial')"
   ]
  },
  {
   "cell_type": "code",
   "execution_count": 5,
   "id": "c8dedab0-c155-4561-b9b9-a3d1263f119f",
   "metadata": {},
   "outputs": [
    {
     "data": {
      "text/plain": [
       "<duckdb.DuckDBPyConnection at 0x223ca0b3670>"
      ]
     },
     "execution_count": 5,
     "metadata": {},
     "output_type": "execute_result"
    }
   ],
   "source": [
    "con.execute('LOAD spatial')"
   ]
  },
  {
   "cell_type": "code",
   "execution_count": 10,
   "id": "27df2925-93c8-4114-b8c6-69590f0f7e73",
   "metadata": {},
   "outputs": [],
   "source": [
    "con.sql(\"drop TABLE new_table;\")"
   ]
  },
  {
   "cell_type": "code",
   "execution_count": 11,
   "id": "e899f3f7-cb07-41d9-8107-f697f6c785e1",
   "metadata": {},
   "outputs": [
    {
     "name": "stdout",
     "output_type": "stream",
     "text": [
      "0:00:20.795612\n"
     ]
    }
   ],
   "source": [
    "start = time.time()\n",
    "con.sql(\"CREATE TABLE new_table AS SELECT * FROM st_read('휴대품검사결과.xlsx');\")\n",
    "end = time.time()\n",
    "sec = (end - start)\n",
    "result = datetime.timedelta(seconds=sec)\n",
    "print(result)"
   ]
  },
  {
   "cell_type": "code",
   "execution_count": 12,
   "id": "7d4e1f71-15c2-4aef-891c-861621c7ea37",
   "metadata": {},
   "outputs": [
    {
     "name": "stdout",
     "output_type": "stream",
     "text": [
      "0:00:00.009683\n"
     ]
    }
   ],
   "source": [
    "start = time.time()\n",
    "con.sql(\"select 검사결과등록세관부호,count(*) cns from new_table group by 검사결과등록세관부호 order by 2 desc;\")\n",
    "end = time.time()\n",
    "sec = (end - start)\n",
    "result = datetime.timedelta(seconds=sec)\n",
    "print(result)"
   ]
  },
  {
   "cell_type": "code",
   "execution_count": 15,
   "id": "54ea9070-9893-450c-bd92-5675177458eb",
   "metadata": {},
   "outputs": [
    {
     "name": "stderr",
     "output_type": "stream",
     "text": [
      "C:\\python\\ml308\\lib\\site-packages\\openpyxl\\styles\\stylesheet.py:226: UserWarning: Workbook contains no default style, apply openpyxl's default\n",
      "  warn(\"Workbook contains no default style, apply openpyxl's default\")\n"
     ]
    },
    {
     "name": "stdout",
     "output_type": "stream",
     "text": [
      "0:03:27.562579\n"
     ]
    }
   ],
   "source": [
    "start = time.time()\n",
    "df  = pd.read_excel(\"휴대품검사결과.xlsx\",engine=\"openpyxl\")\n",
    "end = time.time()\n",
    "sec = (end - start)\n",
    "result = datetime.timedelta(seconds=sec)\n",
    "print(result)"
   ]
  },
  {
   "cell_type": "code",
   "execution_count": null,
   "id": "493b2e04-8872-40b0-a2ec-9d8f1eca1d61",
   "metadata": {},
   "outputs": [],
   "source": []
  },
  {
   "cell_type": "code",
   "execution_count": null,
   "id": "832e2c1d-f74d-45e7-a513-36c7613466ed",
   "metadata": {},
   "outputs": [],
   "source": []
  },
  {
   "cell_type": "code",
   "execution_count": null,
   "id": "9281882d-13bb-4fad-9405-7313f7186ba1",
   "metadata": {},
   "outputs": [],
   "source": []
  }
 ],
 "metadata": {
  "kernelspec": {
   "display_name": "ml308",
   "language": "python",
   "name": "ml308"
  },
  "language_info": {
   "codemirror_mode": {
    "name": "ipython",
    "version": 3
   },
   "file_extension": ".py",
   "mimetype": "text/x-python",
   "name": "python",
   "nbconvert_exporter": "python",
   "pygments_lexer": "ipython3",
   "version": "3.8.10"
  }
 },
 "nbformat": 4,
 "nbformat_minor": 5
}
