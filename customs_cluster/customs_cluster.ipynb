{
 "cells": [
  {
   "cell_type": "code",
   "execution_count": 106,
   "id": "c8425741-0cee-41da-826e-145f4bc42185",
   "metadata": {},
   "outputs": [],
   "source": [
    "import pandas as pd\n",
    "import numpy as np\n",
    "import matplotlib.pyplot as plt\n",
    "from gensim.models import Word2Vec\n",
    "from sklearn.cluster import KMeans,DBSCAN\n",
    "from konlpy.tag import Okt\n",
    "from tensorflow.keras.preprocessing.sequence import pad_sequences"
   ]
  },
  {
   "cell_type": "code",
   "execution_count": 2,
   "id": "4940e9d5-635c-4c0e-ac83-0fda281697de",
   "metadata": {},
   "outputs": [],
   "source": [
    "df = pd.read_csv('./customs_mail.csvv', low_memory=True)"
   ]
  },
  {
   "cell_type": "code",
   "execution_count": 3,
   "id": "0f5acc98-5e77-4363-a480-210aa35f89c9",
   "metadata": {},
   "outputs": [
    {
     "data": {
      "text/plain": [
       "1214892"
      ]
     },
     "execution_count": 3,
     "metadata": {},
     "output_type": "execute_result"
    }
   ],
   "source": [
    "len(df)"
   ]
  },
  {
   "cell_type": "code",
   "execution_count": 4,
   "id": "5343b66e-2878-4576-b080-f88d6f5f0f20",
   "metadata": {},
   "outputs": [
    {
     "name": "stdout",
     "output_type": "stream",
     "text": [
      "<class 'pandas.core.frame.DataFrame'>\n",
      "RangeIndex: 1214892 entries, 0 to 1214891\n",
      "Data columns (total 7 columns):\n",
      " #   Column       Non-Null Count    Dtype \n",
      "---  ------       --------------    ----- \n",
      " 0   관리년도         1214892 non-null  int64 \n",
      " 1   검사일자         1214892 non-null  int64 \n",
      " 2   검사년도         1214892 non-null  int64 \n",
      " 3   우편물검사결과코드    1214892 non-null  int64 \n",
      " 4   우편물검사결과코드.1  1214890 non-null  object\n",
      " 5   우편물검사결과코드.2  1214890 non-null  object\n",
      " 6   검사결과내용       533166 non-null   object\n",
      "dtypes: int64(4), object(3)\n",
      "memory usage: 64.9+ MB\n"
     ]
    }
   ],
   "source": [
    "df.info()"
   ]
  },
  {
   "cell_type": "code",
   "execution_count": 5,
   "id": "8e6642a7-32d3-429d-80b9-4abd5e5ea8f0",
   "metadata": {},
   "outputs": [
    {
     "data": {
      "text/html": [
       "<div>\n",
       "<style scoped>\n",
       "    .dataframe tbody tr th:only-of-type {\n",
       "        vertical-align: middle;\n",
       "    }\n",
       "\n",
       "    .dataframe tbody tr th {\n",
       "        vertical-align: top;\n",
       "    }\n",
       "\n",
       "    .dataframe thead th {\n",
       "        text-align: right;\n",
       "    }\n",
       "</style>\n",
       "<table border=\"1\" class=\"dataframe\">\n",
       "  <thead>\n",
       "    <tr style=\"text-align: right;\">\n",
       "      <th></th>\n",
       "      <th>관리년도</th>\n",
       "      <th>검사일자</th>\n",
       "      <th>검사년도</th>\n",
       "      <th>우편물검사결과코드</th>\n",
       "      <th>우편물검사결과코드.1</th>\n",
       "      <th>우편물검사결과코드.2</th>\n",
       "      <th>검사결과내용</th>\n",
       "    </tr>\n",
       "  </thead>\n",
       "  <tbody>\n",
       "    <tr>\n",
       "      <th>0</th>\n",
       "      <td>2019</td>\n",
       "      <td>20191004</td>\n",
       "      <td>2019</td>\n",
       "      <td>12</td>\n",
       "      <td>재감(면세범위초과)</td>\n",
       "      <td>12-재감(면세범위초과)</td>\n",
       "      <td>재감(면세범위초과)</td>\n",
       "    </tr>\n",
       "    <tr>\n",
       "      <th>1</th>\n",
       "      <td>2019</td>\n",
       "      <td>20191101</td>\n",
       "      <td>2019</td>\n",
       "      <td>12</td>\n",
       "      <td>재감(면세범위초과)</td>\n",
       "      <td>12-재감(면세범위초과)</td>\n",
       "      <td>재감(면세범위초과)</td>\n",
       "    </tr>\n",
       "    <tr>\n",
       "      <th>2</th>\n",
       "      <td>2019</td>\n",
       "      <td>20191213</td>\n",
       "      <td>2019</td>\n",
       "      <td>12</td>\n",
       "      <td>재감(면세범위초과)</td>\n",
       "      <td>12-재감(면세범위초과)</td>\n",
       "      <td>세관선별 : 분산반입 9건 , 170kg</td>\n",
       "    </tr>\n",
       "  </tbody>\n",
       "</table>\n",
       "</div>"
      ],
      "text/plain": [
       "   관리년도      검사일자  검사년도  우편물검사결과코드 우편물검사결과코드.1    우편물검사결과코드.2  \\\n",
       "0  2019  20191004  2019         12  재감(면세범위초과)  12-재감(면세범위초과)   \n",
       "1  2019  20191101  2019         12  재감(면세범위초과)  12-재감(면세범위초과)   \n",
       "2  2019  20191213  2019         12  재감(면세범위초과)  12-재감(면세범위초과)   \n",
       "\n",
       "                   검사결과내용  \n",
       "0              재감(면세범위초과)  \n",
       "1              재감(면세범위초과)  \n",
       "2  세관선별 : 분산반입 9건 , 170kg  "
      ]
     },
     "execution_count": 5,
     "metadata": {},
     "output_type": "execute_result"
    }
   ],
   "source": [
    "df.head(3)"
   ]
  },
  {
   "cell_type": "code",
   "execution_count": 6,
   "id": "b3a0c941-3b33-4f56-b37c-c93e221760f4",
   "metadata": {},
   "outputs": [
    {
     "data": {
      "text/plain": [
       "18-우편통관과 인계         701683\n",
       "00-이상없음(현장 면세)      380230\n",
       "12-재감(면세범위초과)        79813\n",
       "26-지재권침해물품           18081\n",
       "99-기타                14563\n",
       "01-검역인계(현장 면세)        6446\n",
       "13-재감(가격심사대상)         4760\n",
       "98-선도착 검사제외           4170\n",
       "11-재감(자가사용범위초과)       1693\n",
       "15-재감(검역 및 재감대상)       858\n",
       "14-재감(세관장확인대상)         825\n",
       "21-위해물품(총포,도검류)        691\n",
       "16-재감(일반수입신고대상)        501\n",
       "22-마약류                 425\n",
       "27-조사의뢰(조사) 대상          84\n",
       "23-위조증서류                33\n",
       "24-위해식품류                27\n",
       "28-외국환거래법 대상             5\n",
       "25-금지품                   2\n",
       "Name: 우편물검사결과코드.2, dtype: int64"
      ]
     },
     "execution_count": 6,
     "metadata": {},
     "output_type": "execute_result"
    }
   ],
   "source": [
    "df['우편물검사결과코드.2'].value_counts()"
   ]
  },
  {
   "cell_type": "code",
   "execution_count": 7,
   "id": "e132c883-0942-401f-859a-994c6b7d1f14",
   "metadata": {},
   "outputs": [],
   "source": [
    "df_etc = df[df['우편물검사결과코드.2'] =='99-기타']"
   ]
  },
  {
   "cell_type": "code",
   "execution_count": 8,
   "id": "925fa583-af4a-4ec3-978d-3647dcf29ecb",
   "metadata": {},
   "outputs": [
    {
     "data": {
      "text/plain": [
       "14563"
      ]
     },
     "execution_count": 8,
     "metadata": {},
     "output_type": "execute_result"
    }
   ],
   "source": [
    "len(df_etc)"
   ]
  },
  {
   "cell_type": "code",
   "execution_count": 9,
   "id": "aa4b468a-11d3-4391-96e0-590d312e80b1",
   "metadata": {},
   "outputs": [
    {
     "data": {
      "text/html": [
       "<div>\n",
       "<style scoped>\n",
       "    .dataframe tbody tr th:only-of-type {\n",
       "        vertical-align: middle;\n",
       "    }\n",
       "\n",
       "    .dataframe tbody tr th {\n",
       "        vertical-align: top;\n",
       "    }\n",
       "\n",
       "    .dataframe thead th {\n",
       "        text-align: right;\n",
       "    }\n",
       "</style>\n",
       "<table border=\"1\" class=\"dataframe\">\n",
       "  <thead>\n",
       "    <tr style=\"text-align: right;\">\n",
       "      <th></th>\n",
       "      <th>관리년도</th>\n",
       "      <th>검사일자</th>\n",
       "      <th>검사년도</th>\n",
       "      <th>우편물검사결과코드</th>\n",
       "      <th>우편물검사결과코드.1</th>\n",
       "      <th>우편물검사결과코드.2</th>\n",
       "      <th>검사결과내용</th>\n",
       "    </tr>\n",
       "  </thead>\n",
       "  <tbody>\n",
       "    <tr>\n",
       "      <th>705</th>\n",
       "      <td>2019</td>\n",
       "      <td>20191105</td>\n",
       "      <td>2019</td>\n",
       "      <td>99</td>\n",
       "      <td>기타</td>\n",
       "      <td>99-기타</td>\n",
       "      <td>농산물(말린고추)비전자상거래</td>\n",
       "    </tr>\n",
       "    <tr>\n",
       "      <th>706</th>\n",
       "      <td>2019</td>\n",
       "      <td>20191105</td>\n",
       "      <td>2019</td>\n",
       "      <td>99</td>\n",
       "      <td>기타</td>\n",
       "      <td>99-기타</td>\n",
       "      <td>농산물(말린고추)-비전자상거래물품</td>\n",
       "    </tr>\n",
       "    <tr>\n",
       "      <th>762</th>\n",
       "      <td>2019</td>\n",
       "      <td>20191113</td>\n",
       "      <td>2019</td>\n",
       "      <td>99</td>\n",
       "      <td>기타</td>\n",
       "      <td>99-기타</td>\n",
       "      <td>농산물 반송</td>\n",
       "    </tr>\n",
       "  </tbody>\n",
       "</table>\n",
       "</div>"
      ],
      "text/plain": [
       "     관리년도      검사일자  검사년도  우편물검사결과코드 우편물검사결과코드.1 우편물검사결과코드.2  \\\n",
       "705  2019  20191105  2019         99          기타       99-기타   \n",
       "706  2019  20191105  2019         99          기타       99-기타   \n",
       "762  2019  20191113  2019         99          기타       99-기타   \n",
       "\n",
       "                 검사결과내용  \n",
       "705     농산물(말린고추)비전자상거래  \n",
       "706  농산물(말린고추)-비전자상거래물품  \n",
       "762              농산물 반송  "
      ]
     },
     "execution_count": 9,
     "metadata": {},
     "output_type": "execute_result"
    }
   ],
   "source": [
    "df_etc.head(3)"
   ]
  },
  {
   "cell_type": "code",
   "execution_count": 10,
   "id": "52e4f90c-9e96-4dd0-a58f-fd61dc2da2bd",
   "metadata": {},
   "outputs": [
    {
     "data": {
      "text/plain": [
       "농산물 반송       3226\n",
       "농산물반송        2259\n",
       "농산물          1927\n",
       "담배반송         1414\n",
       "담배           1359\n",
       "             ... \n",
       "기타,농산물반송        1\n",
       "이삿짐/반송          1\n",
       "상용              1\n",
       "농산물반입           1\n",
       "분산 비전자 반송       1\n",
       "Name: 검사결과내용, Length: 504, dtype: int64"
      ]
     },
     "execution_count": 10,
     "metadata": {},
     "output_type": "execute_result"
    }
   ],
   "source": [
    "df_etc['검사결과내용'].value_counts()"
   ]
  },
  {
   "cell_type": "code",
   "execution_count": 11,
   "id": "9b42c0ee-cae5-4972-8caf-4484f91381b4",
   "metadata": {},
   "outputs": [
    {
     "data": {
      "text/plain": [
       "False"
      ]
     },
     "execution_count": 11,
     "metadata": {},
     "output_type": "execute_result"
    }
   ],
   "source": [
    "#  결측값 유무 확인\n",
    "df_etc['검사결과내용'].isnull().values.any()\n",
    "\n",
    "# 결측값이 존재하는 행삭제\n",
    "# df_etc = df_etc['검사결과내용'].dropna(how='any')"
   ]
  },
  {
   "cell_type": "markdown",
   "id": "7fb16e4e-c8e2-4c40-ab07-ed22fc258a3e",
   "metadata": {},
   "source": [
    "### 데이터 정비"
   ]
  },
  {
   "cell_type": "code",
   "execution_count": 12,
   "id": "ab836325-2b79-4d91-8b52-fe0d5d54efad",
   "metadata": {},
   "outputs": [
    {
     "name": "stderr",
     "output_type": "stream",
     "text": [
      "C:\\Users\\P-이종권\\AppData\\Local\\Temp\\ipykernel_12388\\2433001654.py:2: FutureWarning: The default value of regex will change from True to False in a future version.\n",
      "  df_etc['검사결과내용'] = df_etc['검사결과내용'].str.replace(\"[^ㄱ-ㅎㅏ-ㅣ가-힣 ]\",\"\")\n",
      "C:\\Users\\P-이종권\\AppData\\Local\\Temp\\ipykernel_12388\\2433001654.py:2: SettingWithCopyWarning: \n",
      "A value is trying to be set on a copy of a slice from a DataFrame.\n",
      "Try using .loc[row_indexer,col_indexer] = value instead\n",
      "\n",
      "See the caveats in the documentation: https://pandas.pydata.org/pandas-docs/stable/user_guide/indexing.html#returning-a-view-versus-a-copy\n",
      "  df_etc['검사결과내용'] = df_etc['검사결과내용'].str.replace(\"[^ㄱ-ㅎㅏ-ㅣ가-힣 ]\",\"\")\n"
     ]
    }
   ],
   "source": [
    "# 정규 표현식을 통한 한글 외 문자 제거\n",
    "df_etc['검사결과내용'] = df_etc['검사결과내용'].str.replace(\"[^ㄱ-ㅎㅏ-ㅣ가-힣 ]\",\"\")"
   ]
  },
  {
   "cell_type": "code",
   "execution_count": 13,
   "id": "ed77d3e4-a80c-42e9-aa06-09ed130a2f4c",
   "metadata": {},
   "outputs": [
    {
     "name": "stderr",
     "output_type": "stream",
     "text": [
      "C:\\Users\\P-이종권\\AppData\\Local\\Temp\\ipykernel_12388\\2582553906.py:1: SettingWithCopyWarning: \n",
      "A value is trying to be set on a copy of a slice from a DataFrame.\n",
      "Try using .loc[row_indexer,col_indexer] = value instead\n",
      "\n",
      "See the caveats in the documentation: https://pandas.pydata.org/pandas-docs/stable/user_guide/indexing.html#returning-a-view-versus-a-copy\n",
      "  df_etc['검사결과내용'] = df_etc['검사결과내용'].str.replace(\"기타농산물\",\"농산물\").str.replace(\"이삿짐\",\"이사화물\").str.replace(\"담배반송\",\" 담배\").str.replace(\"담배 반송\",\" 담배\").str.replace(\"농산물반송\",\" 농산물\").str.replace(\"농산물 반송\",\" 농산물\").str.replace(\"이사화물 반송\",\"이사화물\").str.replace(\"기타담배반송\",\"담배\").str.replace(\"과일반송\",\"과일\").str.replace(\"기타 담배반송\",\"담배\").str.replace(\"기타 이사화물반송\",\"이사화물\")\n"
     ]
    }
   ],
   "source": [
    "df_etc['검사결과내용'] = df_etc['검사결과내용'].str.replace(\"기타농산물\",\"농산물\").str.replace(\"이삿짐\",\"이사화물\").str.replace(\"담배반송\",\" 담배\").str.replace(\"담배 반송\",\" 담배\").str.replace(\"농산물반송\",\" 농산물\").str.replace(\"농산물 반송\",\" 농산물\").str.replace(\"이사화물 반송\",\"이사화물\").str.replace(\"기타담배반송\",\"담배\").str.replace(\"과일반송\",\"과일\").str.replace(\"기타 담배반송\",\"담배\").str.replace(\"기타 이사화물반송\",\"이사화물\")"
   ]
  },
  {
   "cell_type": "code",
   "execution_count": 14,
   "id": "940f80ca-782e-4831-9fa1-47417b3bebf6",
   "metadata": {},
   "outputs": [
    {
     "name": "stderr",
     "output_type": "stream",
     "text": [
      "C:\\Users\\P-이종권\\AppData\\Local\\Temp\\ipykernel_12388\\323752328.py:1: SettingWithCopyWarning: \n",
      "A value is trying to be set on a copy of a slice from a DataFrame.\n",
      "Try using .loc[row_indexer,col_indexer] = value instead\n",
      "\n",
      "See the caveats in the documentation: https://pandas.pydata.org/pandas-docs/stable/user_guide/indexing.html#returning-a-view-versus-a-copy\n",
      "  df_etc['검사결과내용'] = df_etc['검사결과내용'].str.replace(\"기타비전자반송\",\"비전자상거래\").str.replace(\"기타비전자상거래물품\",\"비전자상거래\").str.replace(\"농산물  담배\",\"담배\").str.replace(\"반송농산물\",\"농산물\").str.replace(\"비전자 반송\",\"비전자상거래\")\\\n"
     ]
    }
   ],
   "source": [
    "df_etc['검사결과내용'] = df_etc['검사결과내용'].str.replace(\"기타비전자반송\",\"비전자상거래\").str.replace(\"기타비전자상거래물품\",\"비전자상거래\").str.replace(\"농산물  담배\",\"담배\").str.replace(\"반송농산물\",\"농산물\").str.replace(\"비전자 반송\",\"비전자상거래\")\\\n",
    ".str.replace(\"비전자상거래 반송\",\"비전자상거래\").str.replace(\"비전자상거래물품\",\"비전자상거래\").str.replace(\"비전자상거래반송\",\"비전자상거래\").str.replace(\"이사물품 반송\",\"이사물품\")"
   ]
  },
  {
   "cell_type": "code",
   "execution_count": 15,
   "id": "877bf534-0039-4a9f-afa7-c5dd0f1aca46",
   "metadata": {},
   "outputs": [
    {
     "name": "stderr",
     "output_type": "stream",
     "text": [
      "C:\\Users\\P-이종권\\AppData\\Local\\Temp\\ipykernel_12388\\2277108369.py:1: SettingWithCopyWarning: \n",
      "A value is trying to be set on a copy of a slice from a DataFrame.\n",
      "Try using .loc[row_indexer,col_indexer] = value instead\n",
      "\n",
      "See the caveats in the documentation: https://pandas.pydata.org/pandas-docs/stable/user_guide/indexing.html#returning-a-view-versus-a-copy\n",
      "  df_etc['검사결과내용'] = df_etc['검사결과내용'].str.replace(\"기타 담배\",\"담배\").str.replace(\"기타담배\",\"담배\").str.replace(\"기타반송\",\"기타\").str.replace(\"농산물 담배\",\"담배\").str.replace(\"농산물담배\",\"담배\")\\\n"
     ]
    }
   ],
   "source": [
    "df_etc['검사결과내용'] = df_etc['검사결과내용'].str.replace(\"기타 담배\",\"담배\").str.replace(\"기타담배\",\"담배\").str.replace(\"기타반송\",\"기타\").str.replace(\"농산물 담배\",\"담배\").str.replace(\"농산물담배\",\"담배\")\\\n",
    ".str.replace(\"반송담배\",\"담배\").str.replace(\"비전자반송\",\"비전자상거래\").str.replace(\"인근분산반입   농산물\",\"농산물\").str.replace(\"이사물품반송\",\"이사물품\")"
   ]
  },
  {
   "cell_type": "markdown",
   "id": "9dd9e8cd-dc61-4a93-8308-1e4d21514ffb",
   "metadata": {},
   "source": [
    "### 문장의 단어를 토큰화하고 word2vec을 학습 후 벡터하기"
   ]
  },
  {
   "cell_type": "code",
   "execution_count": 83,
   "id": "b0e826be-2ccc-45a5-bcbf-a69f7e99dba2",
   "metadata": {},
   "outputs": [
    {
     "name": "stderr",
     "output_type": "stream",
     "text": [
      "100%|██████████████████████████████████████████████████████████████████████████| 14563/14563 [00:04<00:00, 3085.04it/s]\n"
     ]
    }
   ],
   "source": [
    "# 토큰화작업\n",
    "import tqdm\n",
    "okt = Okt()\n",
    "tokenized_data = []\n",
    "for sentence in tqdm.tqdm(df_etc['검사결과내용']):\n",
    "    tokenized_sentence = okt.morphs(sentence, stem=True)\n",
    "    tokenized_data.append(tokenized_sentence)"
   ]
  },
  {
   "cell_type": "code",
   "execution_count": 87,
   "id": "6d568777-c29c-4efe-97c2-fa9cd4fc55b6",
   "metadata": {},
   "outputs": [
    {
     "data": {
      "text/plain": [
       "14563"
      ]
     },
     "execution_count": 87,
     "metadata": {},
     "output_type": "execute_result"
    }
   ],
   "source": [
    "# 전채행\n",
    "len(tokenized_data)"
   ]
  },
  {
   "cell_type": "code",
   "execution_count": 88,
   "id": "cf47938e-9865-4543-abda-a3ad3b1de466",
   "metadata": {},
   "outputs": [
    {
     "data": {
      "text/plain": [
       "[['농산물', '말리다', '고추', '비', '전자상거래'],\n",
       " ['농산물', '말리다', '고추', '비', '전자상거래'],\n",
       " ['농산물']]"
      ]
     },
     "execution_count": 88,
     "metadata": {},
     "output_type": "execute_result"
    }
   ],
   "source": [
    "# 행별로 토큰화된 결과 확인\n",
    "tokenized_data[:3]"
   ]
  },
  {
   "cell_type": "code",
   "execution_count": 26,
   "id": "42cd0c98-92b8-4764-9886-6534d2d2f88e",
   "metadata": {},
   "outputs": [
    {
     "name": "stdout",
     "output_type": "stream",
     "text": [
      "리뷰의 최대 길이 : 34\n",
      "리뷰의 평균 길이 : 1.2438371214722241\n"
     ]
    },
    {
     "data": {
      "image/png": "[encoded data removed]",
      "text/plain": [
       "<Figure size 640x480 with 1 Axes>"
      ]
     },
     "metadata": {},
     "output_type": "display_data"
    }
   ],
   "source": [
    "# 리뷰 길이 분포 확인\n",
    "print('리뷰의 최대 길이 :',max(len(review) for review in tokenized_data))\n",
    "print('리뷰의 평균 길이 :',sum(map(len, tokenized_data))/len(tokenized_data))\n",
    "plt.hist([len(review) for review in tokenized_data], bins=50)\n",
    "plt.xlabel('length of samples')\n",
    "plt.ylabel('number of samples')\n",
    "plt.show()"
   ]
  },
  {
   "cell_type": "code",
   "execution_count": 84,
   "id": "d7ab1c6d-eef1-4950-bd73-63ae12f60e4f",
   "metadata": {},
   "outputs": [],
   "source": [
    "# 학습하기\n",
    "# 임베딩 차원 : 100, 원도우사이즈 : 5, 등장빈도 min_count : 5\n",
    "model = Word2Vec(sentences = tokenized_data, vector_size = 100, window = 5, min_count = 5, workers = 4, sg = 0)"
   ]
  },
  {
   "cell_type": "code",
   "execution_count": 28,
   "id": "d152994d-d02f-4001-953f-93535d2e5020",
   "metadata": {},
   "outputs": [
    {
     "data": {
      "text/plain": [
       "(90, 100)"
      ]
     },
     "execution_count": 28,
     "metadata": {},
     "output_type": "execute_result"
    }
   ],
   "source": [
    "# 완성된 임베딩 매트릭스의 크기 확인\n",
    "model.wv.vectors.shape"
   ]
  },
  {
   "cell_type": "code",
   "execution_count": 92,
   "id": "0ba8718c-b33b-46e4-9c1c-7f5925e92a2e",
   "metadata": {},
   "outputs": [
    {
     "data": {
      "text/plain": [
       "['농산물', '담배']"
      ]
     },
     "execution_count": 92,
     "metadata": {},
     "output_type": "execute_result"
    }
   ],
   "source": [
    "# 총 벡터화된 단어는 90개이고 그중 3개만 조회\n",
    "model.wv.index_to_key[:2]"
   ]
  },
  {
   "cell_type": "code",
   "execution_count": 95,
   "id": "8a0ed279-12b1-42fb-a666-cd3ffe27c6ee",
   "metadata": {},
   "outputs": [
    {
     "data": {
      "text/plain": [
       "array([[ 8.36350303e-03,  5.15341461e-02, -7.77557716e-02,\n",
       "        -1.79834086e-02, -1.21809551e-02, -1.67713463e-01,\n",
       "         8.94080289e-03,  1.28000975e-01, -1.47530064e-01,\n",
       "        -1.33820042e-01, -2.32133158e-02, -1.75350737e-02,\n",
       "        -5.62930144e-02, -4.59092204e-03,  1.49979725e-01,\n",
       "         6.19329475e-02,  1.15175247e-01,  5.09217419e-02,\n",
       "         2.68360190e-02, -1.71166807e-01,  8.92544761e-02,\n",
       "        -2.10643522e-02,  1.59989417e-01, -6.15971684e-02,\n",
       "         4.91060652e-02,  7.34078586e-02, -1.74010128e-01,\n",
       "        -2.75494698e-02,  6.72514290e-02,  2.26153899e-02,\n",
       "         1.71533763e-01,  1.14281452e-03,  1.16641432e-01,\n",
       "        -8.39809999e-02,  3.24481837e-02,  1.93144009e-02,\n",
       "        -6.26393706e-02,  6.32246882e-02, -4.05704789e-02,\n",
       "        -1.62881702e-01, -3.07945292e-02, -8.06548297e-02,\n",
       "         9.38350409e-02,  1.15516916e-01, -1.70071982e-03,\n",
       "        -8.08320567e-02, -9.14556682e-02, -3.91248725e-02,\n",
       "         8.98477957e-02,  1.21230580e-04,  9.58193094e-03,\n",
       "        -7.65983015e-02, -1.09805912e-01,  3.35320681e-02,\n",
       "        -5.92692867e-02,  2.45848019e-02,  4.01665196e-02,\n",
       "        -2.11362056e-02,  2.19035242e-02,  4.22140933e-04,\n",
       "         5.13622798e-02,  1.11550637e-01,  1.88987359e-01,\n",
       "         1.30576894e-01, -7.93580934e-02,  1.64421231e-01,\n",
       "         6.23004921e-02,  1.35546803e-01, -9.47548971e-02,\n",
       "        -4.85103484e-03, -3.76723270e-04,  6.35253936e-02,\n",
       "         8.52891523e-03,  9.86642465e-02,  2.12731406e-01,\n",
       "         6.35601431e-02, -8.44246242e-03,  1.34103492e-01,\n",
       "        -7.99948275e-02, -4.97318953e-02, -2.45831441e-02,\n",
       "        -1.59701817e-02, -4.45957854e-03,  1.34215564e-01,\n",
       "         5.45658320e-02, -8.84786714e-03,  1.08553864e-01,\n",
       "         5.27599491e-02, -4.12019715e-03, -6.84982017e-02,\n",
       "         1.81429639e-01,  5.98578975e-02,  2.13101469e-02,\n",
       "         7.69071206e-02,  9.46815014e-02, -9.61481535e-04,\n",
       "         9.95984226e-02, -6.49967045e-02, -2.17056535e-02,\n",
       "         4.20061499e-02],\n",
       "       [-6.47074485e-04,  5.15714809e-02, -7.17072040e-02,\n",
       "        -1.92434676e-02,  5.04612504e-03, -1.55752301e-01,\n",
       "         3.72165558e-03,  1.16723344e-01, -1.35787562e-01,\n",
       "        -1.26988843e-01, -2.88633220e-02, -2.36521997e-02,\n",
       "        -5.34219854e-02, -3.25087830e-03,  1.47804528e-01,\n",
       "         6.67483732e-02,  1.11330792e-01,  5.42758480e-02,\n",
       "         2.87885498e-02, -1.51380271e-01,  7.87342414e-02,\n",
       "        -2.83327512e-02,  1.51332274e-01, -6.82584196e-02,\n",
       "         4.66934592e-02,  7.43929371e-02, -1.66223317e-01,\n",
       "        -2.67950967e-02,  6.78423941e-02,  3.12623195e-02,\n",
       "         1.76864594e-01, -2.52607930e-03,  9.94890258e-02,\n",
       "        -7.67764896e-02,  3.60451452e-02,  2.27699038e-02,\n",
       "        -5.89921102e-02,  7.05839619e-02, -2.81100553e-02,\n",
       "        -1.38235152e-01, -1.16049321e-02, -8.69497806e-02,\n",
       "         8.63552988e-02,  1.11264996e-01, -4.53801500e-03,\n",
       "        -6.69275224e-02, -7.24266842e-02, -4.70761098e-02,\n",
       "         8.05573314e-02, -6.83112862e-03,  2.44098473e-02,\n",
       "        -8.50549340e-02, -9.86166596e-02,  3.38432193e-02,\n",
       "        -6.40097558e-02,  3.53783928e-02,  4.25341316e-02,\n",
       "        -6.80716010e-03,  2.28009094e-02, -8.49425502e-04,\n",
       "         4.04792465e-02,  1.06622487e-01,  1.75090030e-01,\n",
       "         1.23620652e-01, -6.91968650e-02,  1.56443402e-01,\n",
       "         6.64657280e-02,  1.15216300e-01, -7.84866512e-02,\n",
       "         2.39268687e-04, -9.56127420e-03,  4.26210947e-02,\n",
       "         1.50713362e-02,  1.07051052e-01,  1.93330005e-01,\n",
       "         5.18347360e-02, -2.16502715e-02,  1.22872092e-01,\n",
       "        -6.72023892e-02, -4.15094309e-02, -3.14012468e-02,\n",
       "        -1.38358083e-02, -4.29181568e-03,  1.12317167e-01,\n",
       "         5.73168397e-02, -1.17802704e-02,  9.52868238e-02,\n",
       "         4.36931103e-02,  1.81704282e-03, -7.45476708e-02,\n",
       "         1.68664023e-01,  5.41458502e-02,  1.89130846e-02,\n",
       "         6.32711947e-02,  7.65895545e-02, -2.46665371e-03,\n",
       "         1.06775269e-01, -5.60365468e-02, -3.03304642e-02,\n",
       "         3.74281220e-02]], dtype=float32)"
      ]
     },
     "execution_count": 95,
     "metadata": {},
     "output_type": "execute_result"
    }
   ],
   "source": [
    "# 농산물, 담배단어의 임베딩 벡터\n",
    "model.wv.vectors[:2]"
   ]
  },
  {
   "cell_type": "code",
   "execution_count": 97,
   "id": "3913b3bb-0dea-4b17-bf2f-48452ce64b43",
   "metadata": {},
   "outputs": [
    {
     "data": {
      "text/plain": [
       "array([-0.00064707,  0.05157148, -0.0717072 , -0.01924347,  0.00504613,\n",
       "       -0.1557523 ,  0.00372166,  0.11672334, -0.13578756, -0.12698884,\n",
       "       -0.02886332, -0.0236522 , -0.05342199, -0.00325088,  0.14780453,\n",
       "        0.06674837,  0.11133079,  0.05427585,  0.02878855, -0.15138027,\n",
       "        0.07873424, -0.02833275,  0.15133227, -0.06825842,  0.04669346,\n",
       "        0.07439294, -0.16622332, -0.0267951 ,  0.06784239,  0.03126232,\n",
       "        0.1768646 , -0.00252608,  0.09948903, -0.07677649,  0.03604515,\n",
       "        0.0227699 , -0.05899211,  0.07058396, -0.02811006, -0.13823515,\n",
       "       -0.01160493, -0.08694978,  0.0863553 ,  0.111265  , -0.00453801,\n",
       "       -0.06692752, -0.07242668, -0.04707611,  0.08055733, -0.00683113,\n",
       "        0.02440985, -0.08505493, -0.09861666,  0.03384322, -0.06400976,\n",
       "        0.03537839,  0.04253413, -0.00680716,  0.02280091, -0.00084943,\n",
       "        0.04047925,  0.10662249,  0.17509003,  0.12362065, -0.06919686,\n",
       "        0.1564434 ,  0.06646573,  0.1152163 , -0.07848665,  0.00023927,\n",
       "       -0.00956127,  0.04262109,  0.01507134,  0.10705105,  0.19333   ,\n",
       "        0.05183474, -0.02165027,  0.12287209, -0.06720239, -0.04150943,\n",
       "       -0.03140125, -0.01383581, -0.00429182,  0.11231717,  0.05731684,\n",
       "       -0.01178027,  0.09528682,  0.04369311,  0.00181704, -0.07454767,\n",
       "        0.16866402,  0.05414585,  0.01891308,  0.06327119,  0.07658955,\n",
       "       -0.00246665,  0.10677527, -0.05603655, -0.03033046,  0.03742812],\n",
       "      dtype=float32)"
      ]
     },
     "execution_count": 97,
     "metadata": {},
     "output_type": "execute_result"
    }
   ],
   "source": [
    "#특정 단어의 벡터값\n",
    "model.wv[\"담배\"]"
   ]
  },
  {
   "cell_type": "code",
   "execution_count": null,
   "id": "5d10e40b-59ad-413f-bcc4-a004a09fc96b",
   "metadata": {},
   "outputs": [],
   "source": []
  },
  {
   "cell_type": "code",
   "execution_count": 77,
   "id": "747a59cf-475d-4d76-b4f8-7f0057ba986d",
   "metadata": {},
   "outputs": [],
   "source": [
    "# 모델에서 단어 벡터 추출\n",
    "# word_vectors  = model.wv\n",
    "# # 벡터 정규화\n",
    "# from sklearn.preprocessing import normalize\n",
    "# normalized_word_vectors = normalize(np.array([word_vectors[word] for word in word_vectors.vocab])).reshape(-1, 100)"
   ]
  },
  {
   "cell_type": "markdown",
   "id": "ebfe1dae-33b5-4303-8b4d-c0d6d395a948",
   "metadata": {},
   "source": [
    "### 문장(행)별 임베딩 벡터 합치기"
   ]
  },
  {
   "cell_type": "code",
   "execution_count": 98,
   "id": "e2ef5673-8a7a-46a5-972f-263952bc6fc9",
   "metadata": {},
   "outputs": [
    {
     "name": "stderr",
     "output_type": "stream",
     "text": [
      "100%|██████████████████████████████████████████████████████████████████████████| 14563/14563 [00:04<00:00, 3116.80it/s]\n"
     ]
    }
   ],
   "source": [
    "rows_vectors = []\n",
    "# 행별 단어 추출\n",
    "for sentence in tqdm.tqdm(df_etc['검사결과내용']):\n",
    "    tokenized_sentence = okt.morphs(sentence, stem=True)\n",
    "    vectorized_sentence = []\n",
    "    # 단어 하나씩 추출\n",
    "    for token in tokenized_sentence:\n",
    "        try:\n",
    "            # 단어의 벡터값 뽑아서 저장\n",
    "            vector = model.wv[token]\n",
    "            vectorized_sentence.append(vector)\n",
    "        except KeyError:\n",
    "            pass\n",
    "    rows_vectors.append(vectorized_sentence)"
   ]
  },
  {
   "cell_type": "code",
   "execution_count": 101,
   "id": "a960b8cc-58ef-451f-b449-89fc8baf8b2e",
   "metadata": {},
   "outputs": [
    {
     "data": {
      "text/plain": [
       "[[array([ 8.36350303e-03,  5.15341461e-02, -7.77557716e-02, -1.79834086e-02,\n",
       "         -1.21809551e-02, -1.67713463e-01,  8.94080289e-03,  1.28000975e-01,\n",
       "         -1.47530064e-01, -1.33820042e-01, -2.32133158e-02, -1.75350737e-02,\n",
       "         -5.62930144e-02, -4.59092204e-03,  1.49979725e-01,  6.19329475e-02,\n",
       "          1.15175247e-01,  5.09217419e-02,  2.68360190e-02, -1.71166807e-01,\n",
       "          8.92544761e-02, -2.10643522e-02,  1.59989417e-01, -6.15971684e-02,\n",
       "          4.91060652e-02,  7.34078586e-02, -1.74010128e-01, -2.75494698e-02,\n",
       "          6.72514290e-02,  2.26153899e-02,  1.71533763e-01,  1.14281452e-03,\n",
       "          1.16641432e-01, -8.39809999e-02,  3.24481837e-02,  1.93144009e-02,\n",
       "         -6.26393706e-02,  6.32246882e-02, -4.05704789e-02, -1.62881702e-01,\n",
       "         -3.07945292e-02, -8.06548297e-02,  9.38350409e-02,  1.15516916e-01,\n",
       "         -1.70071982e-03, -8.08320567e-02, -9.14556682e-02, -3.91248725e-02,\n",
       "          8.98477957e-02,  1.21230580e-04,  9.58193094e-03, -7.65983015e-02,\n",
       "         -1.09805912e-01,  3.35320681e-02, -5.92692867e-02,  2.45848019e-02,\n",
       "          4.01665196e-02, -2.11362056e-02,  2.19035242e-02,  4.22140933e-04,\n",
       "          5.13622798e-02,  1.11550637e-01,  1.88987359e-01,  1.30576894e-01,\n",
       "         -7.93580934e-02,  1.64421231e-01,  6.23004921e-02,  1.35546803e-01,\n",
       "         -9.47548971e-02, -4.85103484e-03, -3.76723270e-04,  6.35253936e-02,\n",
       "          8.52891523e-03,  9.86642465e-02,  2.12731406e-01,  6.35601431e-02,\n",
       "         -8.44246242e-03,  1.34103492e-01, -7.99948275e-02, -4.97318953e-02,\n",
       "         -2.45831441e-02, -1.59701817e-02, -4.45957854e-03,  1.34215564e-01,\n",
       "          5.45658320e-02, -8.84786714e-03,  1.08553864e-01,  5.27599491e-02,\n",
       "         -4.12019715e-03, -6.84982017e-02,  1.81429639e-01,  5.98578975e-02,\n",
       "          2.13101469e-02,  7.69071206e-02,  9.46815014e-02, -9.61481535e-04,\n",
       "          9.95984226e-02, -6.49967045e-02, -2.17056535e-02,  4.20061499e-02],\n",
       "        dtype=float32),\n",
       "  array([ 0.02811038,  0.04084672, -0.10799954, -0.0274479 ,  0.00830872,\n",
       "         -0.19346185,  0.0079127 ,  0.15180707, -0.17615825, -0.15971977,\n",
       "         -0.04533475, -0.02320146, -0.06043674,  0.00530718,  0.19189821,\n",
       "          0.07617375,  0.13752638,  0.07748193,  0.05671431, -0.17552935,\n",
       "          0.10459195, -0.04146665,  0.17110448, -0.08166325,  0.06593926,\n",
       "          0.08904885, -0.21640317, -0.02639369,  0.09629314,  0.02792109,\n",
       "          0.22296064,  0.00231848,  0.11818144, -0.09481034,  0.03675728,\n",
       "          0.01558562, -0.08091677,  0.08873006, -0.03662726, -0.19851293,\n",
       "         -0.03259477, -0.10754358,  0.13358133,  0.1544843 , -0.00607085,\n",
       "         -0.08827107, -0.10483899, -0.05907716,  0.11600792, -0.01497031,\n",
       "          0.01016452, -0.10716189, -0.13056882,  0.03284869, -0.07449315,\n",
       "          0.04911678,  0.03218245, -0.01210595,  0.04435582, -0.00834262,\n",
       "          0.06504217,  0.14662628,  0.24058989,  0.17735101, -0.09994483,\n",
       "          0.20634723,  0.08317038,  0.16706836, -0.10996547, -0.00092436,\n",
       "          0.00390662,  0.05691813,  0.02255762,  0.1255429 ,  0.25944737,\n",
       "          0.06992167, -0.02615679,  0.17123716, -0.10712942, -0.05963929,\n",
       "         -0.03680974, -0.0266552 , -0.01842259,  0.15789178,  0.08801387,\n",
       "         -0.01320705,  0.1264985 ,  0.06742363, -0.00743473, -0.1071104 ,\n",
       "          0.21980006,  0.06249519,  0.03136582,  0.10296907,  0.1034836 ,\n",
       "         -0.00111407,  0.13583323, -0.06951198, -0.02339757,  0.04372182],\n",
       "        dtype=float32),\n",
       "  array([-6.75670919e-04,  9.56561342e-02, -1.44131929e-01, -4.38173190e-02,\n",
       "         -9.30687506e-03, -2.54055232e-01, -1.18875969e-02,  1.67160168e-01,\n",
       "         -2.26892635e-01, -2.01750338e-01, -5.61632812e-02, -1.27897169e-02,\n",
       "         -9.69493985e-02, -2.20739003e-02,  2.58347362e-01,  1.11317940e-01,\n",
       "          1.91137061e-01,  9.06088725e-02,  5.60854524e-02, -2.54022062e-01,\n",
       "          1.39747202e-01, -3.59048694e-02,  2.46603400e-01, -8.35976601e-02,\n",
       "          8.65564421e-02,  1.35671556e-01, -2.84858495e-01, -6.11397810e-02,\n",
       "          1.17784321e-01,  5.29759936e-02,  2.90554553e-01,  1.39795355e-02,\n",
       "          1.74914584e-01, -1.28755301e-01,  6.28402084e-02,  2.08422784e-02,\n",
       "         -1.25519902e-01,  1.25154823e-01, -5.79124913e-02, -2.49827579e-01,\n",
       "         -4.13366519e-02, -1.38598725e-01,  1.71927691e-01,  1.95330396e-01,\n",
       "         -7.83974677e-03, -1.32682785e-01, -1.36707276e-01, -7.70706236e-02,\n",
       "          1.44758582e-01, -2.05625556e-02,  2.46904120e-02, -1.24685079e-01,\n",
       "         -1.82152018e-01,  4.79499400e-02, -1.06594503e-01,  5.19359373e-02,\n",
       "          6.05458282e-02, -2.30532736e-02,  3.51073258e-02,  1.03589182e-03,\n",
       "          8.99688974e-02,  1.87023103e-01,  3.08817059e-01,  2.32966051e-01,\n",
       "         -1.05726890e-01,  2.48942316e-01,  1.15611352e-01,  2.12318763e-01,\n",
       "         -1.30014345e-01, -1.17202532e-02, -9.30391438e-03,  7.24044368e-02,\n",
       "         -1.91756844e-04,  1.71071887e-01,  3.37492079e-01,  1.12352140e-01,\n",
       "         -2.83575188e-02,  2.22500756e-01, -1.14889301e-01, -7.34568089e-02,\n",
       "         -3.46170031e-02, -4.34963554e-02, -8.81747575e-04,  2.05566838e-01,\n",
       "          1.03045225e-01, -8.65291618e-03,  1.78342283e-01,  9.95260701e-02,\n",
       "         -3.82911158e-03, -1.35790527e-01,  2.90854305e-01,  1.04366280e-01,\n",
       "          3.49595882e-02,  1.17812015e-01,  1.17340438e-01, -1.69338472e-02,\n",
       "          1.86148733e-01, -9.26978439e-02, -4.81485836e-02,  7.62061179e-02],\n",
       "        dtype=float32),\n",
       "  array([ 0.00983511,  0.04022621, -0.07036165, -0.02093425,  0.01041022,\n",
       "         -0.09773517, -0.00793309,  0.08504868, -0.11369272, -0.07725868,\n",
       "         -0.03097141, -0.01397836, -0.02060694, -0.00536587,  0.1204941 ,\n",
       "          0.03687751,  0.08677625,  0.05414612,  0.01001337, -0.12004726,\n",
       "          0.04563598, -0.02677151,  0.09769481, -0.05835613,  0.04632764,\n",
       "          0.04599425, -0.10462788, -0.01550275,  0.04114975,  0.02490203,\n",
       "          0.13271461, -0.01068662,  0.06224752, -0.05717276,  0.01143266,\n",
       "          0.00941219, -0.05180542,  0.05239528, -0.0253909 , -0.11394877,\n",
       "         -0.02867067, -0.05494364,  0.07116809,  0.09647615,  0.00342294,\n",
       "         -0.04752848, -0.05716541, -0.03794298,  0.05199107, -0.00854287,\n",
       "          0.01408159, -0.06049683, -0.08861659,  0.01149102, -0.06214119,\n",
       "          0.01089899,  0.02126971, -0.01848798,  0.00433931, -0.01110004,\n",
       "          0.04587154,  0.07520548,  0.14518219,  0.10119504, -0.06527516,\n",
       "          0.12960285,  0.05647202,  0.09954052, -0.07134856,  0.00421845,\n",
       "          0.00354712,  0.04600256,  0.0104406 ,  0.07710565,  0.13988851,\n",
       "          0.05901783,  0.00739508,  0.10064825, -0.05776469, -0.03119254,\n",
       "         -0.01321738, -0.02736556, -0.02196626,  0.08648848,  0.04334703,\n",
       "         -0.01421614,  0.06229715,  0.0264316 ,  0.01356093, -0.05455331,\n",
       "          0.1184949 ,  0.05162374,  0.02667299,  0.05049863,  0.068912  ,\n",
       "          0.00489987,  0.08238732, -0.04055563, -0.00382934,  0.01422136],\n",
       "        dtype=float32),\n",
       "  array([-0.00872391,  0.04650271, -0.05500511, -0.02030126,  0.00407735,\n",
       "         -0.11433435,  0.00523864,  0.09085757, -0.08268113, -0.1030032 ,\n",
       "         -0.00893791, -0.00169806, -0.03513712, -0.01458885,  0.11938389,\n",
       "          0.04166755,  0.09146449,  0.03144098,  0.01461425, -0.09200647,\n",
       "          0.06135251, -0.01872118,  0.11866707, -0.01852296,  0.01971078,\n",
       "          0.06370641, -0.11120291, -0.0159518 ,  0.05532434,  0.01962892,\n",
       "          0.12183432, -0.00052837,  0.05997746, -0.05644486,  0.03156784,\n",
       "          0.0251875 , -0.03518153,  0.03428781, -0.04143085, -0.09197119,\n",
       "         -0.0098305 , -0.04773241,  0.08249432,  0.07352459,  0.0071622 ,\n",
       "         -0.04865971, -0.05526689, -0.03794935,  0.05449977, -0.01167815,\n",
       "          0.01784459, -0.05722954, -0.09246229,  0.00331906, -0.05192807,\n",
       "          0.02180931,  0.0252096 ,  0.006486  ,  0.03289686, -0.00801514,\n",
       "          0.03525944,  0.08894188,  0.14408948,  0.09437107, -0.04083239,\n",
       "          0.09765678,  0.04380601,  0.10325333, -0.06324068, -0.02176565,\n",
       "          0.00759557,  0.02779637,  0.00184079,  0.08669831,  0.14004357,\n",
       "          0.03233279, -0.02221048,  0.10187096, -0.063162  , -0.02672638,\n",
       "         -0.02760289, -0.00433603,  0.00425088,  0.09342398,  0.03909365,\n",
       "         -0.00977117,  0.09064934,  0.04561273, -0.01059961, -0.0744024 ,\n",
       "          0.10917816,  0.03745977,  0.01340382,  0.04885755,  0.06967539,\n",
       "         -0.0033472 ,  0.08533736, -0.05219058, -0.02211412,  0.02319888],\n",
       "        dtype=float32)]]"
      ]
     },
     "execution_count": 101,
     "metadata": {},
     "output_type": "execute_result"
    }
   ],
   "source": [
    "# 첫번째 행의 벡터값\n",
    "rows_vectors[:1]"
   ]
  },
  {
   "cell_type": "code",
   "execution_count": 104,
   "id": "42c3fdc7-be0a-4c4f-816c-ba1a68bb5377",
   "metadata": {},
   "outputs": [
    {
     "data": {
      "text/plain": [
       "705    농산물말린고추비전자상거래\n",
       "Name: 검사결과내용, dtype: object"
      ]
     },
     "execution_count": 104,
     "metadata": {},
     "output_type": "execute_result"
    }
   ],
   "source": [
    "df_etc['검사결과내용'][:1]"
   ]
  },
  {
   "cell_type": "code",
   "execution_count": 107,
   "id": "b93ee2e8-f27e-450f-9dd5-91a1814b9481",
   "metadata": {},
   "outputs": [],
   "source": [
    "# 모든행의 벡터의 길이를 맞춤\n",
    "MAX_LEN = max(len(x) for x in rows_vectors)\n",
    "padded_vectors = pad_sequences(rows_vectors, maxlen=MAX_LEN, padding='post', dtype='float32')"
   ]
  },
  {
   "cell_type": "code",
   "execution_count": 111,
   "id": "ca7719bb-37fc-439e-bf9f-dfedcab7cac3",
   "metadata": {},
   "outputs": [],
   "source": [
    "# k-means 클러스터링\n",
    "kmeans = KMeans(n_clusters=10, random_state=42).fit(np.concatenate(padded_vectors))"
   ]
  },
  {
   "cell_type": "code",
   "execution_count": 109,
   "id": "0c5c4109-135c-4fb3-a38b-9b31339682fa",
   "metadata": {},
   "outputs": [],
   "source": [
    "# 클러스터링 결과 확인\n",
    "labels = kmeans.labels_"
   ]
  },
  {
   "cell_type": "code",
   "execution_count": 114,
   "id": "be48ea32-945a-4308-9fee-a7a107a3bf14",
   "metadata": {},
   "outputs": [
    {
     "name": "stderr",
     "output_type": "stream",
     "text": [
      "C:\\Users\\P-이종권\\AppData\\Local\\Temp\\ipykernel_12388\\1136262429.py:2: SettingWithCopyWarning: \n",
      "A value is trying to be set on a copy of a slice from a DataFrame.\n",
      "Try using .loc[row_indexer,col_indexer] = value instead\n",
      "\n",
      "See the caveats in the documentation: https://pandas.pydata.org/pandas-docs/stable/user_guide/indexing.html#returning-a-view-versus-a-copy\n",
      "  df_etc['cluster'] = df_etc.groupby('검사결과내용').ngroup().apply(lambda x: kmeans.labels_[x])\n"
     ]
    }
   ],
   "source": [
    "# 클러스터링 결과를 데이터프레임에 추가\n",
    "df_etc['cluster'] = df_etc.groupby('검사결과내용').ngroup().apply(lambda x: kmeans.labels_[x])"
   ]
  },
  {
   "cell_type": "code",
   "execution_count": 115,
   "id": "fbd5d3b0-23b3-428e-b799-c94a99696d79",
   "metadata": {},
   "outputs": [
    {
     "data": {
      "text/html": [
       "<div>\n",
       "<style scoped>\n",
       "    .dataframe tbody tr th:only-of-type {\n",
       "        vertical-align: middle;\n",
       "    }\n",
       "\n",
       "    .dataframe tbody tr th {\n",
       "        vertical-align: top;\n",
       "    }\n",
       "\n",
       "    .dataframe thead th {\n",
       "        text-align: right;\n",
       "    }\n",
       "</style>\n",
       "<table border=\"1\" class=\"dataframe\">\n",
       "  <thead>\n",
       "    <tr style=\"text-align: right;\">\n",
       "      <th></th>\n",
       "      <th>관리년도</th>\n",
       "      <th>검사일자</th>\n",
       "      <th>검사년도</th>\n",
       "      <th>우편물검사결과코드</th>\n",
       "      <th>우편물검사결과코드.1</th>\n",
       "      <th>우편물검사결과코드.2</th>\n",
       "      <th>검사결과내용</th>\n",
       "      <th>cluster</th>\n",
       "    </tr>\n",
       "  </thead>\n",
       "  <tbody>\n",
       "    <tr>\n",
       "      <th>705</th>\n",
       "      <td>2019</td>\n",
       "      <td>20191105</td>\n",
       "      <td>2019</td>\n",
       "      <td>99</td>\n",
       "      <td>기타</td>\n",
       "      <td>99-기타</td>\n",
       "      <td>농산물말린고추비전자상거래</td>\n",
       "      <td>0</td>\n",
       "    </tr>\n",
       "    <tr>\n",
       "      <th>706</th>\n",
       "      <td>2019</td>\n",
       "      <td>20191105</td>\n",
       "      <td>2019</td>\n",
       "      <td>99</td>\n",
       "      <td>기타</td>\n",
       "      <td>99-기타</td>\n",
       "      <td>농산물말린고추비전자상거래</td>\n",
       "      <td>0</td>\n",
       "    </tr>\n",
       "    <tr>\n",
       "      <th>762</th>\n",
       "      <td>2019</td>\n",
       "      <td>20191113</td>\n",
       "      <td>2019</td>\n",
       "      <td>99</td>\n",
       "      <td>기타</td>\n",
       "      <td>99-기타</td>\n",
       "      <td>농산물</td>\n",
       "      <td>8</td>\n",
       "    </tr>\n",
       "    <tr>\n",
       "      <th>935</th>\n",
       "      <td>2019</td>\n",
       "      <td>20191125</td>\n",
       "      <td>2019</td>\n",
       "      <td>99</td>\n",
       "      <td>기타</td>\n",
       "      <td>99-기타</td>\n",
       "      <td>이사화물</td>\n",
       "      <td>0</td>\n",
       "    </tr>\n",
       "    <tr>\n",
       "      <th>1015</th>\n",
       "      <td>2019</td>\n",
       "      <td>20191219</td>\n",
       "      <td>2019</td>\n",
       "      <td>99</td>\n",
       "      <td>기타</td>\n",
       "      <td>99-기타</td>\n",
       "      <td>과일</td>\n",
       "      <td>9</td>\n",
       "    </tr>\n",
       "    <tr>\n",
       "      <th>...</th>\n",
       "      <td>...</td>\n",
       "      <td>...</td>\n",
       "      <td>...</td>\n",
       "      <td>...</td>\n",
       "      <td>...</td>\n",
       "      <td>...</td>\n",
       "      <td>...</td>\n",
       "      <td>...</td>\n",
       "    </tr>\n",
       "    <tr>\n",
       "      <th>1211984</th>\n",
       "      <td>2023</td>\n",
       "      <td>20230316</td>\n",
       "      <td>2023</td>\n",
       "      <td>99</td>\n",
       "      <td>기타</td>\n",
       "      <td>99-기타</td>\n",
       "      <td>농산물</td>\n",
       "      <td>0</td>\n",
       "    </tr>\n",
       "    <tr>\n",
       "      <th>1211985</th>\n",
       "      <td>2023</td>\n",
       "      <td>20230316</td>\n",
       "      <td>2023</td>\n",
       "      <td>99</td>\n",
       "      <td>기타</td>\n",
       "      <td>99-기타</td>\n",
       "      <td>농산물</td>\n",
       "      <td>0</td>\n",
       "    </tr>\n",
       "    <tr>\n",
       "      <th>1213154</th>\n",
       "      <td>2023</td>\n",
       "      <td>20230605</td>\n",
       "      <td>2023</td>\n",
       "      <td>99</td>\n",
       "      <td>기타</td>\n",
       "      <td>99-기타</td>\n",
       "      <td>농산물</td>\n",
       "      <td>8</td>\n",
       "    </tr>\n",
       "    <tr>\n",
       "      <th>1214560</th>\n",
       "      <td>2023</td>\n",
       "      <td>20230705</td>\n",
       "      <td>2023</td>\n",
       "      <td>99</td>\n",
       "      <td>기타</td>\n",
       "      <td>99-기타</td>\n",
       "      <td>농산물</td>\n",
       "      <td>8</td>\n",
       "    </tr>\n",
       "    <tr>\n",
       "      <th>1214561</th>\n",
       "      <td>2023</td>\n",
       "      <td>20230705</td>\n",
       "      <td>2023</td>\n",
       "      <td>99</td>\n",
       "      <td>기타</td>\n",
       "      <td>99-기타</td>\n",
       "      <td>농산물</td>\n",
       "      <td>8</td>\n",
       "    </tr>\n",
       "  </tbody>\n",
       "</table>\n",
       "<p>14563 rows × 8 columns</p>\n",
       "</div>"
      ],
      "text/plain": [
       "         관리년도      검사일자  검사년도  우편물검사결과코드 우편물검사결과코드.1 우편물검사결과코드.2  \\\n",
       "705      2019  20191105  2019         99          기타       99-기타   \n",
       "706      2019  20191105  2019         99          기타       99-기타   \n",
       "762      2019  20191113  2019         99          기타       99-기타   \n",
       "935      2019  20191125  2019         99          기타       99-기타   \n",
       "1015     2019  20191219  2019         99          기타       99-기타   \n",
       "...       ...       ...   ...        ...         ...         ...   \n",
       "1211984  2023  20230316  2023         99          기타       99-기타   \n",
       "1211985  2023  20230316  2023         99          기타       99-기타   \n",
       "1213154  2023  20230605  2023         99          기타       99-기타   \n",
       "1214560  2023  20230705  2023         99          기타       99-기타   \n",
       "1214561  2023  20230705  2023         99          기타       99-기타   \n",
       "\n",
       "                검사결과내용  cluster  \n",
       "705      농산물말린고추비전자상거래        0  \n",
       "706      농산물말린고추비전자상거래        0  \n",
       "762                농산물        8  \n",
       "935               이사화물        0  \n",
       "1015                과일        9  \n",
       "...                ...      ...  \n",
       "1211984            농산물        0  \n",
       "1211985            농산물        0  \n",
       "1213154            농산물        8  \n",
       "1214560            농산물        8  \n",
       "1214561            농산물        8  \n",
       "\n",
       "[14563 rows x 8 columns]"
      ]
     },
     "execution_count": 115,
     "metadata": {},
     "output_type": "execute_result"
    }
   ],
   "source": [
    "df_etc"
   ]
  },
  {
   "cell_type": "code",
   "execution_count": 119,
   "id": "8d9360da-9b34-43d5-a7c5-38bfc31b3dce",
   "metadata": {},
   "outputs": [
    {
     "data": {
      "text/plain": [
       "cluster  검사결과내용   \n",
       "0         농산물고춧가루     1\n",
       "          농산물고춧가루등    1\n",
       "          농산물대추       3\n",
       "          농산물땅콩       7\n",
       "          농산물말린고추     2\n",
       "                     ..\n",
       "9        담배다량 반송      3\n",
       "         담배식품 반송      1\n",
       "         이사물품분산반송     1\n",
       "         전자담배 카트리지    1\n",
       "         주류반송         1\n",
       "Name: 검사결과내용, Length: 375, dtype: int64"
      ]
     },
     "execution_count": 119,
     "metadata": {},
     "output_type": "execute_result"
    }
   ],
   "source": [
    "ㄱ닛 = df_etc.groupby(['cluster','검사결과내용'])['검사결과내용'].count()"
   ]
  },
  {
   "cell_type": "code",
   "execution_count": 124,
   "id": "7569aec4-e5f7-4fd0-b3b2-d6c4ae71945e",
   "metadata": {},
   "outputs": [],
   "source": [
    "rslt = df_etc.groupby(['cluster','검사결과내용'])['검사결과내용'].count().reset_index(name='ditc_count')"
   ]
  },
  {
   "cell_type": "code",
   "execution_count": 126,
   "id": "99a76fab-cdbc-4235-b5d0-c2ad8da30865",
   "metadata": {},
   "outputs": [],
   "source": [
    "rslt.to_csv('./rslt.csv',index=False)"
   ]
  },
  {
   "cell_type": "code",
   "execution_count": null,
   "id": "2a4084fe-a27a-4187-aefb-861e8eca02e1",
   "metadata": {},
   "outputs": [],
   "source": []
  },
  {
   "cell_type": "code",
   "execution_count": null,
   "id": "5ecd36f6-3930-48e5-b9b6-abd30b45cb6f",
   "metadata": {},
   "outputs": [],
   "source": []
  },
  {
   "cell_type": "code",
   "execution_count": null,
   "id": "ae8db000-a14f-47eb-a594-4d96dcf82152",
   "metadata": {},
   "outputs": [],
   "source": []
  }
 ],
 "metadata": {
  "kernelspec": {
   "display_name": "prj308",
   "language": "python",
   "name": "ml_py308"
  },
  "language_info": {
   "codemirror_mode": {
    "name": "ipython",
    "version": 3
   },
   "file_extension": ".py",
   "mimetype": "text/x-python",
   "name": "python",
   "nbconvert_exporter": "python",
   "pygments_lexer": "ipython3",
   "version": "3.8.7"
  }
 },
 "nbformat": 4,
 "nbformat_minor": 5
}
