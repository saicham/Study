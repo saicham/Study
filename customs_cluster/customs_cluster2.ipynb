{
 "cells": [
  {
   "cell_type": "code",
   "execution_count": 56,
   "id": "e562ba8d-070c-4c79-8a90-92321b697736",
   "metadata": {},
   "outputs": [],
   "source": [
    "import pandas as pd\n",
    "import numpy as np\n",
    "import matplotlib.pyplot as plt\n",
    "from gensim.models import Word2Vec\n",
    "from sklearn.cluster import KMeans,DBSCAN\n",
    "from konlpy.tag import Okt\n",
    "from tensorflow.keras.preprocessing.sequence import pad_sequences\n",
    "from sklearn.feature_extraction.text import TfidfVectorizer"
   ]
  },
  {
   "cell_type": "code",
   "execution_count": 71,
   "id": "f7a17002-0943-4d8c-8bf2-9956d9ff6fbb",
   "metadata": {},
   "outputs": [],
   "source": [
    "df = pd.read_csv('./customs_mail.csvv', low_memory=True)\n",
    "df_etc = df[df['우편물검사결과코드.2'] =='99-기타'].reset_index(drop=True)"
   ]
  },
  {
   "cell_type": "code",
   "execution_count": 73,
   "id": "d400b82e-2b72-431c-a84e-6be2e32b1333",
   "metadata": {},
   "outputs": [
    {
     "name": "stderr",
     "output_type": "stream",
     "text": [
      "C:\\Users\\P-이종권\\AppData\\Local\\Temp\\ipykernel_14828\\70231399.py:1: FutureWarning: The default value of regex will change from True to False in a future version.\n",
      "  df_etc['검사결과내용'] = df_etc['검사결과내용'].str.replace(\"[^ㄱ-ㅎㅏ-ㅣ가-힣 ]\",\"\")\n"
     ]
    }
   ],
   "source": [
    "df_etc['검사결과내용'] = df_etc['검사결과내용'].str.replace(\"[^ㄱ-ㅎㅏ-ㅣ가-힣 ]\",\"\")\n",
    "df_etc['검사결과내용'] = df_etc['검사결과내용'].str.replace(\"기타농산물\",\"농산물\").str.replace(\"이삿짐\",\"이사화물\").str.replace(\"담배반송\",\" 담배\").str.replace(\"담배 반송\",\" 담배\").str.replace(\"농산물반송\",\" 농산물\").str.replace(\"농산물 반송\",\" 농산물\").str.replace(\"이사화물 반송\",\"이사화물\").str.replace(\"기타담배반송\",\"담배\").str.replace(\"과일반송\",\"과일\").str.replace(\"기타 담배반송\",\"담배\").str.replace(\"기타 이사화물반송\",\"이사화물\")\n",
    "df_etc['검사결과내용'] = df_etc['검사결과내용'].str.replace(\"기타비전자반송\",\"비전자상거래\").str.replace(\"기타비전자상거래물품\",\"비전자상거래\").str.replace(\"농산물  담배\",\"담배\").str.replace(\"반송농산물\",\"농산물\").str.replace(\"비전자 반송\",\"비전자상거래\")\\\n",
    ".str.replace(\"비전자상거래 반송\",\"비전자상거래\").str.replace(\"비전자상거래물품\",\"비전자상거래\").str.replace(\"비전자상거래반송\",\"비전자상거래\").str.replace(\"이사물품 반송\",\"이사물품\")\n",
    "df_etc['검사결과내용'] = df_etc['검사결과내용'].str.replace(\"기타 담배\",\"담배\").str.replace(\"기타담배\",\"담배\").str.replace(\"기타반송\",\"기타\").str.replace(\"농산물 담배\",\"담배\").str.replace(\"농산물담배\",\"담배\")\\\n",
    ".str.replace(\"반송담배\",\"담배\").str.replace(\"비전자반송\",\"비전자상거래\").str.replace(\"인근분산반입   농산물\",\"농산물\").str.replace(\"이사물품반송\",\"이사물품\")\n",
    "df_test = df_etc.copy()"
   ]
  },
  {
   "cell_type": "code",
   "execution_count": 81,
   "id": "57595d1f-83f5-4f2e-9f5a-42536d3ea3c0",
   "metadata": {},
   "outputs": [
    {
     "data": {
      "text/plain": [
       "검사결과내용\n",
       " 농산물           5544\n",
       " 담배            2257\n",
       "농산물            2169\n",
       "담배             1743\n",
       "비전자상거래         1193\n",
       "               ... \n",
       "반송연초고형물           1\n",
       "반송전자상거래물품아님       1\n",
       "반송지재권침해물품         1\n",
       "반송처리 담배와 홍삼       1\n",
       "휠가격재감요            1\n",
       "Name: 검사결과내용, Length: 373, dtype: int64"
      ]
     },
     "execution_count": 81,
     "metadata": {},
     "output_type": "execute_result"
    }
   ],
   "source": [
    "df_test.groupby('검사결과내용')['검사결과내용'].count().sort_values(ascending=False)"
   ]
  },
  {
   "cell_type": "code",
   "execution_count": 85,
   "id": "1c54b550-3c24-4c77-b2cc-e8435910344b",
   "metadata": {},
   "outputs": [
    {
     "data": {
      "text/html": [
       "<div>\n",
       "<style scoped>\n",
       "    .dataframe tbody tr th:only-of-type {\n",
       "        vertical-align: middle;\n",
       "    }\n",
       "\n",
       "    .dataframe tbody tr th {\n",
       "        vertical-align: top;\n",
       "    }\n",
       "\n",
       "    .dataframe thead th {\n",
       "        text-align: right;\n",
       "    }\n",
       "</style>\n",
       "<table border=\"1\" class=\"dataframe\">\n",
       "  <thead>\n",
       "    <tr style=\"text-align: right;\">\n",
       "      <th></th>\n",
       "      <th>관리년도</th>\n",
       "      <th>검사일자</th>\n",
       "      <th>검사년도</th>\n",
       "      <th>우편물검사결과코드</th>\n",
       "      <th>우편물검사결과코드.1</th>\n",
       "      <th>우편물검사결과코드.2</th>\n",
       "      <th>검사결과내용</th>\n",
       "    </tr>\n",
       "  </thead>\n",
       "  <tbody>\n",
       "    <tr>\n",
       "      <th>0</th>\n",
       "      <td>2019</td>\n",
       "      <td>20191105</td>\n",
       "      <td>2019</td>\n",
       "      <td>99</td>\n",
       "      <td>기타</td>\n",
       "      <td>99-기타</td>\n",
       "      <td>농산물말린고추비전자상거래</td>\n",
       "    </tr>\n",
       "    <tr>\n",
       "      <th>1</th>\n",
       "      <td>2019</td>\n",
       "      <td>20191105</td>\n",
       "      <td>2019</td>\n",
       "      <td>99</td>\n",
       "      <td>기타</td>\n",
       "      <td>99-기타</td>\n",
       "      <td>농산물말린고추비전자상거래</td>\n",
       "    </tr>\n",
       "    <tr>\n",
       "      <th>2</th>\n",
       "      <td>2019</td>\n",
       "      <td>20191113</td>\n",
       "      <td>2019</td>\n",
       "      <td>99</td>\n",
       "      <td>기타</td>\n",
       "      <td>99-기타</td>\n",
       "      <td>농산물</td>\n",
       "    </tr>\n",
       "  </tbody>\n",
       "</table>\n",
       "</div>"
      ],
      "text/plain": [
       "   관리년도      검사일자  검사년도  우편물검사결과코드 우편물검사결과코드.1 우편물검사결과코드.2         검사결과내용\n",
       "0  2019  20191105  2019         99          기타       99-기타  농산물말린고추비전자상거래\n",
       "1  2019  20191105  2019         99          기타       99-기타  농산물말린고추비전자상거래\n",
       "2  2019  20191113  2019         99          기타       99-기타            농산물"
      ]
     },
     "execution_count": 85,
     "metadata": {},
     "output_type": "execute_result"
    }
   ],
   "source": [
    "df_test.head(3)"
   ]
  },
  {
   "cell_type": "code",
   "execution_count": 86,
   "id": "1145e43c-2d4d-4487-9a08-40917dd418c4",
   "metadata": {},
   "outputs": [
    {
     "data": {
      "text/plain": [
       "<14563x375 sparse matrix of type '<class 'numpy.float64'>'\n",
       "\twith 15182 stored elements in Compressed Sparse Row format>"
      ]
     },
     "execution_count": 86,
     "metadata": {},
     "output_type": "execute_result"
    }
   ],
   "source": [
    "tfidf_matrix"
   ]
  },
  {
   "cell_type": "code",
   "execution_count": 84,
   "id": "e00e02ab-5b6a-4b17-9b5a-73b69e110a1f",
   "metadata": {},
   "outputs": [],
   "source": [
    "tfidf_vectorizer = TfidfVectorizer()\n",
    "tfidf_matrix = tfidf_vectorizer.fit_transform(df_test['검사결과내용']) \n",
    "idf = tfidf_vectorizer.idf_\n",
    "# print(dict(zip(tfidf_vectorizer.get_feature_names(), idf)))"
   ]
  },
  {
   "cell_type": "code",
   "execution_count": 88,
   "id": "703b0c77-9510-4133-aaef-deba3300534b",
   "metadata": {},
   "outputs": [
    {
     "data": {
      "image/png": "[encoded data removed]",
      "text/plain": [
       "<Figure size 640x480 with 1 Axes>"
      ]
     },
     "metadata": {},
     "output_type": "display_data"
    }
   ],
   "source": [
    "itr = []\n",
    "for i in range(2,20):\n",
    "    km = KMeans(n_clusters=i, random_state=42)\n",
    "    km.fit(tfidf_matrix)\n",
    "    itr.append(km.inertia_)\n",
    "    \n",
    "plt.plot(range(2,20), itr)\n",
    "plt.show()    "
   ]
  },
  {
   "cell_type": "code",
   "execution_count": 89,
   "id": "c2d2d5be-8a30-4a29-a714-b2c7cfa3a741",
   "metadata": {},
   "outputs": [
    {
     "data": {
      "text/html": [
       "<style>#sk-container-id-3 {color: black;background-color: white;}#sk-container-id-3 pre{padding: 0;}#sk-container-id-3 div.sk-toggleable {background-color: white;}#sk-container-id-3 label.sk-toggleable__label {cursor: pointer;display: block;width: 100%;margin-bottom: 0;padding: 0.3em;box-sizing: border-box;text-align: center;}#sk-container-id-3 label.sk-toggleable__label-arrow:before {content: \"▸\";float: left;margin-right: 0.25em;color: #696969;}#sk-container-id-3 label.sk-toggleable__label-arrow:hover:before {color: black;}#sk-container-id-3 div.sk-estimator:hover label.sk-toggleable__label-arrow:before {color: black;}#sk-container-id-3 div.sk-toggleable__content {max-height: 0;max-width: 0;overflow: hidden;text-align: left;background-color: #f0f8ff;}#sk-container-id-3 div.sk-toggleable__content pre {margin: 0.2em;color: black;border-radius: 0.25em;background-color: #f0f8ff;}#sk-container-id-3 input.sk-toggleable__control:checked~div.sk-toggleable__content {max-height: 200px;max-width: 100%;overflow: auto;}#sk-container-id-3 input.sk-toggleable__control:checked~label.sk-toggleable__label-arrow:before {content: \"▾\";}#sk-container-id-3 div.sk-estimator input.sk-toggleable__control:checked~label.sk-toggleable__label {background-color: #d4ebff;}#sk-container-id-3 div.sk-label input.sk-toggleable__control:checked~label.sk-toggleable__label {background-color: #d4ebff;}#sk-container-id-3 input.sk-hidden--visually {border: 0;clip: rect(1px 1px 1px 1px);clip: rect(1px, 1px, 1px, 1px);height: 1px;margin: -1px;overflow: hidden;padding: 0;position: absolute;width: 1px;}#sk-container-id-3 div.sk-estimator {font-family: monospace;background-color: #f0f8ff;border: 1px dotted black;border-radius: 0.25em;box-sizing: border-box;margin-bottom: 0.5em;}#sk-container-id-3 div.sk-estimator:hover {background-color: #d4ebff;}#sk-container-id-3 div.sk-parallel-item::after {content: \"\";width: 100%;border-bottom: 1px solid gray;flex-grow: 1;}#sk-container-id-3 div.sk-label:hover label.sk-toggleable__label {background-color: #d4ebff;}#sk-container-id-3 div.sk-serial::before {content: \"\";position: absolute;border-left: 1px solid gray;box-sizing: border-box;top: 0;bottom: 0;left: 50%;z-index: 0;}#sk-container-id-3 div.sk-serial {display: flex;flex-direction: column;align-items: center;background-color: white;padding-right: 0.2em;padding-left: 0.2em;position: relative;}#sk-container-id-3 div.sk-item {position: relative;z-index: 1;}#sk-container-id-3 div.sk-parallel {display: flex;align-items: stretch;justify-content: center;background-color: white;position: relative;}#sk-container-id-3 div.sk-item::before, #sk-container-id-3 div.sk-parallel-item::before {content: \"\";position: absolute;border-left: 1px solid gray;box-sizing: border-box;top: 0;bottom: 0;left: 50%;z-index: -1;}#sk-container-id-3 div.sk-parallel-item {display: flex;flex-direction: column;z-index: 1;position: relative;background-color: white;}#sk-container-id-3 div.sk-parallel-item:first-child::after {align-self: flex-end;width: 50%;}#sk-container-id-3 div.sk-parallel-item:last-child::after {align-self: flex-start;width: 50%;}#sk-container-id-3 div.sk-parallel-item:only-child::after {width: 0;}#sk-container-id-3 div.sk-dashed-wrapped {border: 1px dashed gray;margin: 0 0.4em 0.5em 0.4em;box-sizing: border-box;padding-bottom: 0.4em;background-color: white;}#sk-container-id-3 div.sk-label label {font-family: monospace;font-weight: bold;display: inline-block;line-height: 1.2em;}#sk-container-id-3 div.sk-label-container {text-align: center;}#sk-container-id-3 div.sk-container {/* jupyter's `normalize.less` sets `[hidden] { display: none; }` but bootstrap.min.css set `[hidden] { display: none !important; }` so we also need the `!important` here to be able to override the default hidden behavior on the sphinx rendered scikit-learn.org. See: https://github.com/scikit-learn/scikit-learn/issues/21755 */display: inline-block !important;position: relative;}#sk-container-id-3 div.sk-text-repr-fallback {display: none;}</style><div id=\"sk-container-id-3\" class=\"sk-top-container\"><div class=\"sk-text-repr-fallback\"><pre>KMeans(max_iter=100, n_clusters=7, n_init=1, random_state=42)</pre><b>In a Jupyter environment, please rerun this cell to show the HTML representation or trust the notebook. <br />On GitHub, the HTML representation is unable to render, please try loading this page with nbviewer.org.</b></div><div class=\"sk-container\" hidden><div class=\"sk-item\"><div class=\"sk-estimator sk-toggleable\"><input class=\"sk-toggleable__control sk-hidden--visually\" id=\"sk-estimator-id-3\" type=\"checkbox\" checked><label for=\"sk-estimator-id-3\" class=\"sk-toggleable__label sk-toggleable__label-arrow\">KMeans</label><div class=\"sk-toggleable__content\"><pre>KMeans(max_iter=100, n_clusters=7, n_init=1, random_state=42)</pre></div></div></div></div></div>"
      ],
      "text/plain": [
       "KMeans(max_iter=100, n_clusters=7, n_init=1, random_state=42)"
      ]
     },
     "execution_count": 89,
     "metadata": {},
     "output_type": "execute_result"
    }
   ],
   "source": [
    "model = KMeans(n_clusters=7, random_state=42, init='k-means++',max_iter=100, n_init=1)\n",
    "model.fit(tfidf_matrix)"
   ]
  },
  {
   "cell_type": "code",
   "execution_count": 90,
   "id": "89072986-f03f-4a0b-9d01-d54e9b65adde",
   "metadata": {},
   "outputs": [
    {
     "data": {
      "text/plain": [
       "array([5, 5, 1, ..., 1, 1, 1])"
      ]
     },
     "execution_count": 90,
     "metadata": {},
     "output_type": "execute_result"
    }
   ],
   "source": [
    "model.labels_"
   ]
  },
  {
   "cell_type": "code",
   "execution_count": 94,
   "id": "fdf3c1ea-cbf4-4456-99c3-e8a98fcd3416",
   "metadata": {},
   "outputs": [
    {
     "data": {
      "text/plain": [
       "검사결과내용\n",
       " 농산물           5544\n",
       " 담배            2257\n",
       "농산물            2169\n",
       "담배             1743\n",
       "비전자상거래         1193\n",
       "               ... \n",
       "반송연초고형물           1\n",
       "반송전자상거래물품아님       1\n",
       "반송지재권침해물품         1\n",
       "반송처리 담배와 홍삼       1\n",
       "휠가격재감요            1\n",
       "Name: 검사결과내용, Length: 373, dtype: int64"
      ]
     },
     "execution_count": 94,
     "metadata": {},
     "output_type": "execute_result"
    }
   ],
   "source": [
    "df_test['cluster'] = df_test.groupby('검사결과내용').ngroup().apply(lambda x: model.labels_[x])\n",
    "# df_test.groupby('검사결과내용')['검사결과내용'].count().sort_values(ascending=False)"
   ]
  },
  {
   "cell_type": "code",
   "execution_count": 95,
   "id": "21b250a3-f711-4ead-9bd8-2a2c52d876a5",
   "metadata": {},
   "outputs": [
    {
     "data": {
      "text/html": [
       "<div>\n",
       "<style scoped>\n",
       "    .dataframe tbody tr th:only-of-type {\n",
       "        vertical-align: middle;\n",
       "    }\n",
       "\n",
       "    .dataframe tbody tr th {\n",
       "        vertical-align: top;\n",
       "    }\n",
       "\n",
       "    .dataframe thead th {\n",
       "        text-align: right;\n",
       "    }\n",
       "</style>\n",
       "<table border=\"1\" class=\"dataframe\">\n",
       "  <thead>\n",
       "    <tr style=\"text-align: right;\">\n",
       "      <th></th>\n",
       "      <th>관리년도</th>\n",
       "      <th>검사일자</th>\n",
       "      <th>검사년도</th>\n",
       "      <th>우편물검사결과코드</th>\n",
       "      <th>우편물검사결과코드.1</th>\n",
       "      <th>우편물검사결과코드.2</th>\n",
       "      <th>검사결과내용</th>\n",
       "      <th>cluster</th>\n",
       "    </tr>\n",
       "  </thead>\n",
       "  <tbody>\n",
       "    <tr>\n",
       "      <th>0</th>\n",
       "      <td>2019</td>\n",
       "      <td>20191105</td>\n",
       "      <td>2019</td>\n",
       "      <td>99</td>\n",
       "      <td>기타</td>\n",
       "      <td>99-기타</td>\n",
       "      <td>농산물말린고추비전자상거래</td>\n",
       "      <td>5</td>\n",
       "    </tr>\n",
       "    <tr>\n",
       "      <th>1</th>\n",
       "      <td>2019</td>\n",
       "      <td>20191105</td>\n",
       "      <td>2019</td>\n",
       "      <td>99</td>\n",
       "      <td>기타</td>\n",
       "      <td>99-기타</td>\n",
       "      <td>농산물말린고추비전자상거래</td>\n",
       "      <td>5</td>\n",
       "    </tr>\n",
       "    <tr>\n",
       "      <th>2</th>\n",
       "      <td>2019</td>\n",
       "      <td>20191113</td>\n",
       "      <td>2019</td>\n",
       "      <td>99</td>\n",
       "      <td>기타</td>\n",
       "      <td>99-기타</td>\n",
       "      <td>농산물</td>\n",
       "      <td>1</td>\n",
       "    </tr>\n",
       "    <tr>\n",
       "      <th>3</th>\n",
       "      <td>2019</td>\n",
       "      <td>20191125</td>\n",
       "      <td>2019</td>\n",
       "      <td>99</td>\n",
       "      <td>기타</td>\n",
       "      <td>99-기타</td>\n",
       "      <td>이사화물</td>\n",
       "      <td>3</td>\n",
       "    </tr>\n",
       "    <tr>\n",
       "      <th>4</th>\n",
       "      <td>2019</td>\n",
       "      <td>20191219</td>\n",
       "      <td>2019</td>\n",
       "      <td>99</td>\n",
       "      <td>기타</td>\n",
       "      <td>99-기타</td>\n",
       "      <td>과일</td>\n",
       "      <td>1</td>\n",
       "    </tr>\n",
       "    <tr>\n",
       "      <th>...</th>\n",
       "      <td>...</td>\n",
       "      <td>...</td>\n",
       "      <td>...</td>\n",
       "      <td>...</td>\n",
       "      <td>...</td>\n",
       "      <td>...</td>\n",
       "      <td>...</td>\n",
       "      <td>...</td>\n",
       "    </tr>\n",
       "    <tr>\n",
       "      <th>14558</th>\n",
       "      <td>2023</td>\n",
       "      <td>20230316</td>\n",
       "      <td>2023</td>\n",
       "      <td>99</td>\n",
       "      <td>기타</td>\n",
       "      <td>99-기타</td>\n",
       "      <td>농산물</td>\n",
       "      <td>0</td>\n",
       "    </tr>\n",
       "    <tr>\n",
       "      <th>14559</th>\n",
       "      <td>2023</td>\n",
       "      <td>20230316</td>\n",
       "      <td>2023</td>\n",
       "      <td>99</td>\n",
       "      <td>기타</td>\n",
       "      <td>99-기타</td>\n",
       "      <td>농산물</td>\n",
       "      <td>0</td>\n",
       "    </tr>\n",
       "    <tr>\n",
       "      <th>14560</th>\n",
       "      <td>2023</td>\n",
       "      <td>20230605</td>\n",
       "      <td>2023</td>\n",
       "      <td>99</td>\n",
       "      <td>기타</td>\n",
       "      <td>99-기타</td>\n",
       "      <td>농산물</td>\n",
       "      <td>1</td>\n",
       "    </tr>\n",
       "    <tr>\n",
       "      <th>14561</th>\n",
       "      <td>2023</td>\n",
       "      <td>20230705</td>\n",
       "      <td>2023</td>\n",
       "      <td>99</td>\n",
       "      <td>기타</td>\n",
       "      <td>99-기타</td>\n",
       "      <td>농산물</td>\n",
       "      <td>1</td>\n",
       "    </tr>\n",
       "    <tr>\n",
       "      <th>14562</th>\n",
       "      <td>2023</td>\n",
       "      <td>20230705</td>\n",
       "      <td>2023</td>\n",
       "      <td>99</td>\n",
       "      <td>기타</td>\n",
       "      <td>99-기타</td>\n",
       "      <td>농산물</td>\n",
       "      <td>1</td>\n",
       "    </tr>\n",
       "  </tbody>\n",
       "</table>\n",
       "<p>14563 rows × 8 columns</p>\n",
       "</div>"
      ],
      "text/plain": [
       "       관리년도      검사일자  검사년도  우편물검사결과코드 우편물검사결과코드.1 우편물검사결과코드.2         검사결과내용  \\\n",
       "0      2019  20191105  2019         99          기타       99-기타  농산물말린고추비전자상거래   \n",
       "1      2019  20191105  2019         99          기타       99-기타  농산물말린고추비전자상거래   \n",
       "2      2019  20191113  2019         99          기타       99-기타            농산물   \n",
       "3      2019  20191125  2019         99          기타       99-기타           이사화물   \n",
       "4      2019  20191219  2019         99          기타       99-기타             과일   \n",
       "...     ...       ...   ...        ...         ...         ...            ...   \n",
       "14558  2023  20230316  2023         99          기타       99-기타            농산물   \n",
       "14559  2023  20230316  2023         99          기타       99-기타            농산물   \n",
       "14560  2023  20230605  2023         99          기타       99-기타            농산물   \n",
       "14561  2023  20230705  2023         99          기타       99-기타            농산물   \n",
       "14562  2023  20230705  2023         99          기타       99-기타            농산물   \n",
       "\n",
       "       cluster  \n",
       "0            5  \n",
       "1            5  \n",
       "2            1  \n",
       "3            3  \n",
       "4            1  \n",
       "...        ...  \n",
       "14558        0  \n",
       "14559        0  \n",
       "14560        1  \n",
       "14561        1  \n",
       "14562        1  \n",
       "\n",
       "[14563 rows x 8 columns]"
      ]
     },
     "execution_count": 95,
     "metadata": {},
     "output_type": "execute_result"
    }
   ],
   "source": [
    "df_test"
   ]
  },
  {
   "cell_type": "code",
   "execution_count": 96,
   "id": "64e22350-26e2-4002-b946-1a903fe6b0d7",
   "metadata": {},
   "outputs": [],
   "source": [
    "rslt2 = df_test.groupby(['cluster','검사결과내용'])['검사결과내용'].count().reset_index(name='ditc_count')"
   ]
  },
  {
   "cell_type": "code",
   "execution_count": 97,
   "id": "03fa2c7f-ffa4-4229-9e1e-279da7496d08",
   "metadata": {},
   "outputs": [],
   "source": [
    "rslt2.to_csv('./rslt2.csv',index=False)"
   ]
  },
  {
   "cell_type": "code",
   "execution_count": 50,
   "id": "f89f0c30-e579-4624-a822-a1ad07bc1487",
   "metadata": {},
   "outputs": [],
   "source": [
    "df_etc.to_csv('./rslt3.csv',index=False)"
   ]
  },
  {
   "cell_type": "code",
   "execution_count": 55,
   "id": "b3251bdb-4c31-4404-93c4-78dd87bf3eb3",
   "metadata": {},
   "outputs": [],
   "source": [
    "df_etc.sort_values(by='검사결과내용').to_csv('./rslt3.csv',index=False)"
   ]
  }
 ],
 "metadata": {
  "kernelspec": {
   "display_name": "prj308",
   "language": "python",
   "name": "ml_py308"
  },
  "language_info": {
   "codemirror_mode": {
    "name": "ipython",
    "version": 3
   },
   "file_extension": ".py",
   "mimetype": "text/x-python",
   "name": "python",
   "nbconvert_exporter": "python",
   "pygments_lexer": "ipython3",
   "version": "3.8.7"
  }
 },
 "nbformat": 4,
 "nbformat_minor": 5
}
