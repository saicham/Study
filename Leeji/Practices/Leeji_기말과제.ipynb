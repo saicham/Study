{
 "cells": [
  {
   "cell_type": "markdown",
   "id": "e347ea3a-9b6e-4c38-851a-45ddd77ecef5",
   "metadata": {},
   "source": [
    "### 1번 문제\n",
    "---\n",
    "####  - 값을 입력받는 프로그램"
   ]
  },
  {
   "cell_type": "code",
   "execution_count": 73,
   "id": "eeb62819-395c-45a8-8410-8f0bc73223be",
   "metadata": {
    "tags": []
   },
   "outputs": [
    {
     "name": "stdin",
     "output_type": "stream",
     "text": [
      "정수를 입력하세요 23\n"
     ]
    },
    {
     "name": "stdout",
     "output_type": "stream",
     "text": [
      "입력값은 23입니다\n",
      "23\n",
      "\n",
      "------------ Odd/Even Result ------------\n",
      "1,3,5,7,9,11,13,15,17,19,21,23,22,20,18,16,14,12,10,8,6,4,2\n"
     ]
    }
   ],
   "source": [
    "while True:\n",
    "    try:\n",
    "        question = int(input('정수를 입력하세요'))   # 입력값을 정수로 받음\n",
    "        print('입력값은 {}입니다'.format(question))  # 입력값 출력\n",
    "        rslt = value_sort(question)                # value_sort함수 호출하여 입력값을 전달하고 처리결과를 rslt변수로 받음\n",
    "        \n",
    "        print('')\n",
    "        print('------------ Odd/Even Result ------------')  # 결과 화면에 출력\n",
    "        print(rslt)                                # rslt변수 값을 화면에 출력\n",
    "        break                                      # 반복문 빠져나가기\n",
    "        \n",
    "    except ValueError:                             # 입력값이 정수가 아닌 경우 입력메소드로 이동\n",
    "        print('정수값만 입력하세요')\n",
    "        continue                                   # 반복문 계속하기"
   ]
  },
  {
   "cell_type": "markdown",
   "id": "3f6ce584-5021-4afc-b930-adb16df794d3",
   "metadata": {},
   "source": [
    "#### - 홀짝수를 계산하는 함수"
   ]
  },
  {
   "cell_type": "code",
   "execution_count": 65,
   "id": "3fedb9b5-7c3f-485e-ab3b-1e9a39164e00",
   "metadata": {
    "tags": []
   },
   "outputs": [],
   "source": [
    "def value_sort(question):\n",
    "    odd = []                                # 홀수값을 저장할 리스트 변수\n",
    "    even = []                               # 짝수값을 저장할 리스트 변수\n",
    "\n",
    "    for  idx in range(1, question+1):       # 1부터 question변수값보다 1이 더 큰수만큼 반복하고 인덱스를 idx변수에 전달\n",
    "        if idx % 2 == 0:                    # idx변수값을 2로 나눈 나머지값이 0인 경우\n",
    "            even.append(idx)                # idx변수값을 홀수 변수에 값 저장\n",
    "        elif idx % 2 == 1:                  # idx변수값을 2로 나눈 나머지값이 1인 경우\n",
    "            odd.append(idx)                 # idx변수값을 짝수 변수에 값 저장\n",
    "        \n",
    "        even.sort(reverse=True)             # 짝수변수의 값을 내림차순으로 정렬\n",
    "    \n",
    "    odd.extend(even)                        # 홀수변수와 짝수변수의 값을 합치기\n",
    "    result = \",\".join(str(i) for  i in odd) # odd리스트변수의 값을 하나씩 뽑아서 문자열로 변환 (예 : [1,2,3,4] --> '1,2,3,4')하여 result변수에 저장\n",
    "    \n",
    "    return result                           # 결과 반환"
   ]
  },
  {
   "cell_type": "markdown",
   "id": "5872bd33-3237-481e-8f42-7ae93de0b7a8",
   "metadata": {},
   "source": [
    "### 2번 문제\n",
    "---\n",
    "####  - 값을 입력받는 프로그램"
   ]
  },
  {
   "cell_type": "code",
   "execution_count": 72,
   "id": "fd3ba7d3-84f4-45e0-9d81-fb1b58e0c13b",
   "metadata": {
    "tags": []
   },
   "outputs": [
    {
     "name": "stdin",
     "output_type": "stream",
     "text": [
      "피보나치수열을 위한 0보다 큰 정수를 입력하세요 5\n"
     ]
    },
    {
     "name": "stdout",
     "output_type": "stream",
     "text": [
      "입력값은 5입니다\n",
      "\n",
      "------------ Fibonacci Result ------------\n",
      "1,1,2,3,5,8,13\n"
     ]
    }
   ],
   "source": [
    "while True:\n",
    "    try:\n",
    "        question = int(input('피보나치수열을 위한 0보다 큰 정수를 입력하세요'))  # 입력값을 정수로 받음\n",
    "        \n",
    "        if question < 1:                                                     # 값이 1보다 작은경우\n",
    "            print('0보다 큰 정수를 입력하세요')\n",
    "            continue                                                         # 반복문 계속하기\n",
    "        else:                                                                # 값이 0보다 큰 경우\n",
    "            print('입력값은 {}입니다'.format(question))                       #입력값을 화면에 출력\n",
    "            rslt = fibonacci(question)                                       # fibonacci함수를 호출하여 입력값 전달하고 처리결과를 rslt변수로 받음\n",
    "            \n",
    "            print('')\n",
    "            print('------------ Fibonacci Result ------------')  # 결과 화면에 출력            \n",
    "            print(rslt)                                                      # rslt변수값을 화면에 출력  \n",
    "        break                                                                # 반복문 빠져나가기\n",
    "        \n",
    "    except ValueError:                                                       # 값이 정수가 아닌 경우\n",
    "        print('정수값만 입력하세요')\n",
    "        continue                                                             # 반복문 계속하기"
   ]
  },
  {
   "cell_type": "markdown",
   "id": "67c01fab-cfe3-4e42-a88b-9e33eaeaf7bb",
   "metadata": {},
   "source": [
    "#### - 피보나치수열을 계산하는 함수"
   ]
  },
  {
   "cell_type": "code",
   "execution_count": 70,
   "id": "4a82d13c-a3e5-462f-b91a-9ed1485278a8",
   "metadata": {
    "tags": []
   },
   "outputs": [],
   "source": [
    "def fibonacci(question):  # input메소드를 통해 입력받은 정수값\n",
    "    l_list = [1, 1]                             # l_list리스트변수 - 피보나치 수열을 계산하기 위해 초기값을 2개를 미리 저장\n",
    "\n",
    "    for idx in range(1, question + 1):          # 1부터 question변수값보다 1이 더 큰수만큼 반복하고 인덱스를 idx변수에 전달\n",
    "        value = l_list[idx - 1] + l_list[idx]   # l_list의 앞 위치의 값과 현재 위치의 값을 더함 (예 [1,2,3]이 있고 현재 위치가 3번째이면 2와 3을 더함)\n",
    "        l_list.append(value)                    # value값을 l_list에 추가 저장\n",
    "        \n",
    "    result = \",\".join(str(i) for  i in l_list)   # l_list리스트변수의 값을 하나씩 뽑아서 문자열로 변환 (예 : [1,2,3,4] --> '1,2,3,4')하여 result변수에 저장\n",
    "    return result  # 결과 반환"
   ]
  },
  {
   "cell_type": "code",
   "execution_count": null,
   "id": "1de1219b-4cda-47a7-9613-007dcc9593e5",
   "metadata": {},
   "outputs": [],
   "source": []
  },
  {
   "cell_type": "markdown",
   "id": "2d8eda9d-07b9-4264-aa6b-2b926251169a",
   "metadata": {},
   "source": [
    "### 3번 문제\n",
    "---\n",
    "#### - 값을 입력받는 프로그램"
   ]
  },
  {
   "cell_type": "code",
   "execution_count": 57,
   "id": "3baa3d26-1624-44a7-ba56-1538006a5652",
   "metadata": {
    "tags": []
   },
   "outputs": [
    {
     "name": "stdin",
     "output_type": "stream",
     "text": [
      "*** Baseball Game : 0보다 큰 정수를 입력하세요 *** 1\n"
     ]
    },
    {
     "name": "stdout",
     "output_type": "stream",
     "text": [
      "1번째 입력값은 1입니다\n"
     ]
    },
    {
     "name": "stdin",
     "output_type": "stream",
     "text": [
      "*** Baseball Game : 0보다 큰 정수를 입력하세요 *** 2\n"
     ]
    },
    {
     "name": "stdout",
     "output_type": "stream",
     "text": [
      "2번째 입력값은 2입니다\n"
     ]
    },
    {
     "name": "stdin",
     "output_type": "stream",
     "text": [
      "*** Baseball Game : 0보다 큰 정수를 입력하세요 *** 3\n"
     ]
    },
    {
     "name": "stdout",
     "output_type": "stream",
     "text": [
      "3번째 입력값은 3입니다\n"
     ]
    },
    {
     "name": "stdin",
     "output_type": "stream",
     "text": [
      "*** Baseball Game : 0보다 큰 정수를 입력하세요 *** 4\n"
     ]
    },
    {
     "name": "stdout",
     "output_type": "stream",
     "text": [
      "4번째 입력값은 4입니다\n",
      "\n",
      "야구게임 값이 모두 입력되었네요\n",
      "입력한 값은 [1, 2, 3, 4]입니다\n",
      "\n",
      "--------- Baseball Game Result ---------\n",
      "4Strike, 0Ball입니다\n",
      "축하합니다 \n",
      "야구게임을 종료합니다\n"
     ]
    }
   ],
   "source": [
    "        # --------------------------- 시작 : 입력값 저장변수와 체크변수를 초기화하는 부분 ------------------------------\n",
    "num_list = []                         # 입력값 저장변수 - 입력값을 저장할 리스트 변수\n",
    "i = 0                                 # 입력값 체크 변수 - 입력값 4개를 체크하는 변수\n",
    "\n",
    "        # --------------------------- 첫번째 : 참조건이 만족할때까지 무한 반복하는 부분 ------------------------------\n",
    "while True:\n",
    "    try:\n",
    "        # --------------------------- 두번째 : 값을 입력받고 정수인지 체크하는 부분 ------------------------------\n",
    "        question = int(input('*** Baseball Game : 0보다 큰 정수를 입력하세요 ***'))  # 입력메소드로 받은 값을 정수형태로 변환하여 question변수에 반환\n",
    "        \n",
    "        # --------------------------- 세번쨰 : 입력값이  0보다 큰지 체크하는 부분 ------------------------------\n",
    "        if question < 1:               # 값이 1보다 작은경우\n",
    "            print('0보다 큰 정수를 입력하세요')\n",
    "            continue                   # 다시 입력메소드로 이동\n",
    "        else:                          # 값이 0보다 큰 경우\n",
    "            i = i + 1                  # 입력값 카운트를 더함\n",
    "            print('{0}번째 입력값은 {1}입니다'.format(i,question))   # 입력값을 화면에 출력\n",
    "            num_list.append(question)  # 저장변수에 입력값을 저장\n",
    "            \n",
    "        # --------------------------- 네번째 : 입력값 모두를 받았는지 체크하는 부분 ------------------------------            \n",
    "        if i == 4:                     # 입력값 4개를 모두 받았을 경우\n",
    "            print('')\n",
    "            print('야구게임 값이 모두 입력되었네요\\n입력한 값은 {}입니다'.format(num_list))  # 입력받은 모든 값을 화면에 출력\n",
    "            \n",
    "        # --------------------------- 다섯번째 : 입력값을 baseball함수에 전달하고 결과를 반환받는 부분 ------------------------------            \n",
    "            game_score = baseball(num_list)  # baseball함수를 호출하면서 저장변수의 값을 전달하고 함수처리결과를 반환받음\n",
    "            \n",
    "            \n",
    "        # --------------------------- 여섯번째 : baseball함수의 반환값을 처리하는 부분 ------------------------------            \n",
    "            if game_score == 4:        # 함수로부터 반환받은 값이 4인 경우\n",
    "                print('축하합니다 \\n야구게임을 종료합니다')\n",
    "                break                  # 반복문 빠져 나가기\n",
    "            else:                      # 함수로부터 반환받은 값이 4가 아닌 경우\n",
    "                i = 0                  # 입력값 체크변수 값 초기화\n",
    "                num_list = []          # 입력값 저장변수 값 초기화\n",
    "                print('아쉽네요. 야구게임을 다시 시작합니다')\n",
    "                print('')\n",
    "                continue               # 다시 입력메소드로 이동하기(반복)\n",
    "                \n",
    "        # --------------------------- 일곱번째 : 입력값이 정수가 아닌 경우 처리하는 부분 ------------------------------                            \n",
    "    except ValueError:                 # 값이 정수가 아닌 경우\n",
    "        print('정수값만 입력하세요')\n",
    "        continue                       # 다시 입력메소드로 이동"
   ]
  },
  {
   "cell_type": "markdown",
   "id": "e0abfde2-efa8-47ca-911c-dcc7e492d27c",
   "metadata": {},
   "source": [
    "---\n",
    "#### 야구게임 결과를 계산하는 함수"
   ]
  },
  {
   "cell_type": "code",
   "execution_count": 56,
   "id": "eaa4556a-4942-4142-8ab1-ff3c1d088031",
   "metadata": {
    "tags": []
   },
   "outputs": [],
   "source": [
    "def baseball(game_score):                                # game_score변수을 통해 값을 전달받음\n",
    "    test_ball = [1,2,3,4]                                # 맞출값을 리스트변수에 미리 넣어 둠\n",
    "    strike = 0                                           # 스트라이크 변수 초기값\n",
    "    ball = 0                                             # 볼 변수 초기값\n",
    "\n",
    "    for i, val in enumerate(game_score):                 # 반복문을 이용해 전달받은 변수의 인덱스와 값을 i와 val변수에 담음\n",
    "        if val == test_ball[i]:                          # val변수의 값이 test_ball변수의 인덱스위치의 값과 일치하는 경우\n",
    "            strike += 1                                  # strike변수에 1를 더함\n",
    "        else:                                            # val변수의 값이 test_ball변수의 인덱스위치의 값과 일치하지 않는 경우\n",
    "            ball += 1                                    # balle변수에 1를 더함\n",
    "    print('')        \n",
    "    print('--------- Baseball Game Result ---------')     \n",
    "    print('{}Strike, {}Ball입니다'.format(strike, ball))  # strike와 ball변수의 값을 화면에 출력\n",
    "    return strike                                        # strike변수값을 전달"
   ]
  }
 ],
 "metadata": {
  "kernelspec": {
   "display_name": "ml308",
   "language": "python",
   "name": "ml308"
  },
  "language_info": {
   "codemirror_mode": {
    "name": "ipython",
    "version": 3
   },
   "file_extension": ".py",
   "mimetype": "text/x-python",
   "name": "python",
   "nbconvert_exporter": "python",
   "pygments_lexer": "ipython3",
   "version": "3.8.10"
  }
 },
 "nbformat": 4,
 "nbformat_minor": 5
}
